{
 "cells": [
  {
   "cell_type": "markdown",
   "metadata": {},
   "source": [
    "#Final Project - Building an Interactive Graph"
   ]
  },
  {
   "cell_type": "markdown",
   "metadata": {},
   "source": [
    "#Download sample data from bokeh  \n",
    "\n",
    "We will work with the Gapminder data set. Specifically with data about historical child mortality and GDP of nations. The data set is already available within the Bokeh sample data.\n",
    "\n",
    "*Gapminder is a non-profit venture promoting sustainable global development and achievement of the United Nations Millennium Development Goals by increased use and understanding of statistics and other information about social, economic and environmental development at local, national and global levels.*\n"
   ]
  },
  {
   "cell_type": "code",
   "execution_count": null,
   "metadata": {
    "collapsed": true
   },
   "outputs": [],
   "source": [
    "import bokeh\n",
    "bokeh.sampledata.download()"
   ]
  },
  {
   "cell_type": "markdown",
   "metadata": {},
   "source": [
    "#Define some basic functions to process the data  \n",
    "\n",
    "We define three functions that will help us to process the Gapminder sample data into a format that can be processed more easily for our plot.\n",
    "\n",
    "1. `def _process_gapminder_data:`\n",
    "    + Make column names into strings\n",
    "    + Turn population into bubble sizes\n",
    "    + Use pandas categories and map to colors\n",
    "    \n",
    "2. `def get_gapminder_1964_data():`\n",
    "    + Get a dataframe consisting of data from 1964\n",
    "    \n",
    "3. `def get_gapminder_1964_scatter_data():`\n",
    "    +"
   ]
  },
  {
   "cell_type": "code",
   "execution_count": 4,
   "metadata": {
    "collapsed": false
   },
   "outputs": [],
   "source": [
    "from collections import OrderedDict\n",
    "import pandas as pd\n",
    "import numpy as np\n",
    "\n",
    "from bokeh.models import (\n",
    "    ColumnDataSource, Plot, Circle, Range1d,\n",
    "    LinearAxis, HoverTool, Text,\n",
    "    SingleIntervalTicker, Slider, CustomJS\n",
    ")\n",
    "\n",
    "def _process_gapminder_data():\n",
    "    from bokeh.sampledata.gapminder import fertility, life_expectancy, population, regions\n",
    "\n",
    "    # Make the column names ints not strings for handling\n",
    "    columns = list(fertility.columns)\n",
    "    years = list(range(int(columns[0]), int(columns[-1])))\n",
    "    rename_dict = dict(zip(columns, years)) # a dict containing year-strings as keys and year-ints as values\n",
    "\n",
    "    fertility = fertility.rename(columns=rename_dict) # mapping from string to int\n",
    "    life_expectancy = life_expectancy.rename(columns=rename_dict)\n",
    "    population = population.rename(columns=rename_dict)\n",
    "    regions = regions.rename(columns=rename_dict)\n",
    "\n",
    "    # Turn population into bubble sizes. Use min_size and factor to tweak.\n",
    "    scale_factor = 200\n",
    "    population_size = np.sqrt(population / np.pi) / scale_factor\n",
    "    min_size = 3\n",
    "    population_size = population_size.where(population_size >= min_size).fillna(min_size)\n",
    "\n",
    "    # Use pandas categories and categorize & color the regions\n",
    "    regions.Group = regions.Group.astype('category') # Apply category type on regions\n",
    "    regions_list = list(regions.Group.cat.categories) # Just store all unique regions in a list\n",
    "\n",
    "    def get_color(r):\n",
    "        return Spectral6[regions_list.index(r.Group)] #Map index in list to color on palette\n",
    "    regions['region_color'] = regions.apply(get_color, axis=1) #Add regions-color column\n",
    "\n",
    "    return fertility, life_expectancy, population_size, regions, years, regions_list\n",
    "\n",
    "\n",
    "def get_gapminder_1964_data():\n",
    "    fertility_df, life_expectancy_df, population_df_size, regions_df, years, regions = _process_gapminder_data()\n",
    "    year = 1964\n",
    "    region_color = regions_df['region_color']\n",
    "    region_color.name = 'region_color'\n",
    "    fertility = fertility_df[year] # get only data for 1964\n",
    "    fertility.name = 'fertility'\n",
    "    life = life_expectancy_df[year]\n",
    "    life.name = 'life'\n",
    "    population = population_df_size[year]\n",
    "    population.name = 'population'\n",
    "    new_df = pd.concat([fertility, life, population, region_color], axis=1) #concat pandas Series' to a DF\n",
    "    return new_df\n",
    "\n",
    "\n",
    "def get_gapminder_1964_scatter_data():\n",
    "    fertility_df, life_expectancy_df, population_df_size, regions_df, years, regions = _process_gapminder_data()\n",
    "    xyvalues = OrderedDict()\n",
    "    xyvalues['1964'] = list(\n",
    "        zip(\n",
    "            fertility_df[1964].dropna().values,\n",
    "            life_expectancy_df[1964].dropna().values\n",
    "        )\n",
    "    )\n",
    "    return xyvalues"
   ]
  },
  {
   "cell_type": "code",
   "execution_count": null,
   "metadata": {
    "collapsed": false
   },
   "outputs": [],
   "source": [
    "from bokeh.io import output_notebook, show\n",
    "output_notebook()"
   ]
  },
  {
   "cell_type": "markdown",
   "metadata": {},
   "source": [
    "#We define a function that creates an empty responsive plot without any glyphs"
   ]
  },
  {
   "cell_type": "code",
   "execution_count": null,
   "metadata": {
    "collapsed": true
   },
   "outputs": [],
   "source": [
    "from bokeh.models import Range1d, Plot\n",
    "\n",
    "def get_plot():\n",
    "    xdr = Range1d(1, 9)\n",
    "    ydr = Range1d(20, 100)\n",
    "    plot = Plot(\n",
    "        x_range=xdr,\n",
    "        y_range=ydr,\n",
    "        title=\"\",\n",
    "        plot_width=800,\n",
    "        plot_height=400,\n",
    "        outline_line_color=None,\n",
    "        toolbar_location=None,\n",
    "        responsive=True\n",
    "    )\n",
    "    return plot\n",
    "show(get_plot())"
   ]
  },
  {
   "cell_type": "markdown",
   "metadata": {},
   "source": [
    "#We define some axis formats that are later passed to the xaxis and yaxis of the plot"
   ]
  },
  {
   "cell_type": "code",
   "execution_count": null,
   "metadata": {
    "collapsed": false
   },
   "outputs": [],
   "source": [
    "AXIS_FORMATS = dict(\n",
    "    minor_tick_in=None,\n",
    "    minor_tick_out=None,\n",
    "    major_tick_in=None,\n",
    "    major_label_text_font_size=\"10pt\",\n",
    "    major_label_text_font_style=\"normal\",\n",
    "    axis_label_text_font_size=\"10pt\",\n",
    "\n",
    "    axis_line_color='#AAAAAA',\n",
    "    major_tick_line_color='#AAAAAA',\n",
    "    major_label_text_color='#666666',\n",
    "\n",
    "    major_tick_line_cap=\"round\",\n",
    "    axis_line_cap=\"round\",\n",
    "    axis_line_width=1,\n",
    "    major_tick_line_width=1\n",
    ")"
   ]
  },
  {
   "cell_type": "markdown",
   "metadata": {},
   "source": [
    "#We define a function that adds a y- and x-axis to the plot"
   ]
  },
  {
   "cell_type": "code",
   "execution_count": null,
   "metadata": {
    "collapsed": true
   },
   "outputs": [],
   "source": [
    "from bokeh.models import LinearAxis, SingleIntervalTicker\n",
    "\n",
    "def add_axes(plot):\n",
    "    xaxis = LinearAxis(axis_label=\"Children per woman (total fertility)\", **AXIS_FORMATS)\n",
    "    yaxis = LinearAxis(axis_label=\"Life expectancy at birth (years)\", **AXIS_FORMATS)\n",
    "    plot.add_layout(xaxis, 'below')\n",
    "    plot.add_layout(yaxis, 'left')\n",
    "    return plot\n",
    "show(add_axes(get_plot()))"
   ]
  },
  {
   "cell_type": "code",
   "execution_count": null,
   "metadata": {
    "collapsed": true
   },
   "outputs": [],
   "source": [
    "#We define a function that adds the background text to the plot"
   ]
  },
  {
   "cell_type": "code",
   "execution_count": null,
   "metadata": {
    "collapsed": true
   },
   "outputs": [],
   "source": [
    "from bokeh.models import ColumnDataSource, Text\n",
    "\n",
    "text_source = ColumnDataSource({'year': ['1964']})\n",
    "\n",
    "def add_text(plot):\n",
    "    plot = add_axes(plot)\n",
    "    # Add the year in background (add before circle)\n",
    "    text = Text(x=2, y=35, text='year', text_font_size='150pt', text_color='#EEEEEE')\n",
    "    plot.add_glyph(text_source, text) #we will manipulate this text_source later using JS\n",
    "    return plot\n",
    "\n",
    "show(add_text(get_plot()))"
   ]
  },
  {
   "cell_type": "code",
   "execution_count": null,
   "metadata": {
    "collapsed": true
   },
   "outputs": [],
   "source": [
    "#We define a function that adds the circles to the plot"
   ]
  },
  {
   "cell_type": "code",
   "execution_count": null,
   "metadata": {
    "collapsed": true
   },
   "outputs": [],
   "source": [
    "from bokeh.models import Circle, HoverTool\n",
    "from bokeh.palettes import Spectral6\n",
    "\n",
    "renderer_source = ColumnDataSource(get_gapminder_1964_data())\n",
    "\n",
    "def add_circles(plot):\n",
    "    plot = add_text(plot)\n",
    "    # Add the circle\n",
    "    circle_glyph = Circle(\n",
    "        x='fertility', y='life', size='population',\n",
    "        fill_color='region_color', fill_alpha=0.8,\n",
    "        line_color='#7c7e71', line_width=0.5, line_alpha=0.5)\n",
    "    circle_renderer = plot.add_glyph(renderer_source, circle_glyph)\n",
    "\n",
    "    # Add the hover (only against the circle and not other plot elements)\n",
    "    tooltips = \"@index\"\n",
    "    plot.add_tools(HoverTool(tooltips=tooltips, renderers=[circle_renderer]))\n",
    "    return plot\n",
    "\n",
    "show(add_circles(get_plot()))\n"
   ]
  },
  {
   "cell_type": "markdown",
   "metadata": {},
   "source": [
    "#We get the dataframes from the gapminder dataset"
   ]
  },
  {
   "cell_type": "code",
   "execution_count": null,
   "metadata": {
    "collapsed": true
   },
   "outputs": [],
   "source": [
    "fertility_df, life_expectancy_df, population_df_size, regions_df, years, regions = _process_gapminder_data()"
   ]
  },
  {
   "cell_type": "markdown",
   "metadata": {},
   "source": [
    "#We create a function that adds the legend to the plot"
   ]
  },
  {
   "cell_type": "code",
   "execution_count": null,
   "metadata": {
    "collapsed": false
   },
   "outputs": [],
   "source": [
    "def add_legend(plot):\n",
    "    plot = add_circles(plot)\n",
    "    # Add a custom legend\n",
    "    text_x = 7\n",
    "    text_y = 95\n",
    "    for i, region in enumerate(regions):\n",
    "        plot.add_glyph(Text(x=text_x, y=text_y, text=[region], text_font_size='10pt', text_color='#666666'))\n",
    "        plot.add_glyph(Circle(x=text_x - 0.1, y=text_y + 2, fill_color=Spectral6[i], size=10, line_color=None, fill_alpha=0.8))\n",
    "        text_y = text_y - 5\n",
    "    return plot\n",
    "    \n",
    "show(add_legend(get_plot()))"
   ]
  },
  {
   "cell_type": "markdown",
   "metadata": {},
   "source": [
    "#We create a function that builds the interactive plot"
   ]
  },
  {
   "cell_type": "code",
   "execution_count": null,
   "metadata": {
    "collapsed": false
   },
   "outputs": [],
   "source": [
    "import pandas as pd\n",
    "from bokeh.models import CustomJS, Slider\n",
    "from bokeh.plotting import vplot, output_file\n",
    "sources2 = {}\n",
    "\n",
    "region_color = regions_df['region_color']\n",
    "region_color.name = 'region_color'\n",
    "\n",
    "def make_interactive(plot):\n",
    "    plot = add_legend(plot)\n",
    "     \n",
    "    # We create a dictionary of columndatasources with _year as keys\n",
    "    for year in years:\n",
    "        fertility = fertility_df[year]\n",
    "        fertility.name = 'fertility'\n",
    "        life = life_expectancy_df[year]\n",
    "        life.name = 'life'\n",
    "        population = population_df_size[year]\n",
    "        population.name = 'population'\n",
    "        new_df = pd.concat([fertility, life, population, region_color], axis=1)\n",
    "        sources2['_' + str(year)] = ColumnDataSource(new_df) \n",
    "\n",
    "    # we create a JS source array that maps the year to the sources we just created (e.g. sources_2000)\n",
    "    dictionary_of_sources = dict(zip([x for x in years], ['_%s' % x for x in years]))\n",
    "    js_source_array = str(dictionary_of_sources).replace(\"'\", \"\")\n",
    "\n",
    "    # Add the slider and the customJS\n",
    "    \n",
    "    # We manipulate the data that is loaded into the plot by referencing another source\n",
    "    # and we change the text_source for the background text\n",
    "    code = \"\"\"\n",
    "        var year = slider.get('value'),\n",
    "            sources = %s,\n",
    "            new_source_data = sources[year].get('data');\n",
    "        renderer_source.set('data', new_source_data);\n",
    "        renderer_source.trigger('change');\n",
    "        text_source.set('data', {'year': [String(year)]});\n",
    "        text_source.trigger('change');\n",
    "    \"\"\" % js_source_array\n",
    "\n",
    "    callback = CustomJS(args=sources2, code=code)\n",
    "    slider = Slider(start=years[0], end=years[-1], value=1, step=1, title=\"Year\", callback=callback)\n",
    "    callback.args[\"slider\"] = slider\n",
    "    callback.args[\"renderer_source\"] = renderer_source\n",
    "    callback.args[\"text_source\"] = text_source\n",
    "\n",
    "    \n",
    "    return vplot(plot, slider)\n",
    "\n",
    "\n",
    "output_file(\"figures/bokeh_final_project.html\")\n",
    "make_interactive(get_plot())\n",
    "show(make_interactive(get_plot()))"
   ]
  },
  {
   "cell_type": "markdown",
   "metadata": {},
   "source": [
    "#Everything together"
   ]
  },
  {
   "cell_type": "code",
   "execution_count": null,
   "metadata": {
    "collapsed": true
   },
   "outputs": [],
   "source": [
    "\n",
    "def get_gapminder_plot():\n",
    "    fertility_df, life_expectancy_df, population_df_size, regions_df, years, regions = _process_gapminder_data()\n",
    "\n",
    "    sources = {}\n",
    "\n",
    "    region_color = regions_df['region_color']\n",
    "    region_color.name = 'region_color'\n",
    "\n",
    "    for year in years:\n",
    "        fertility = fertility_df[year]\n",
    "        fertility.name = 'fertility'\n",
    "        life = life_expectancy_df[year]\n",
    "        life.name = 'life'\n",
    "        population = population_df_size[year]\n",
    "        population.name = 'population'\n",
    "        new_df = pd.concat([fertility, life, population, region_color], axis=1)\n",
    "        sources['_' + str(year)] = ColumnDataSource(new_df)\n",
    "\n",
    "    dictionary_of_sources = dict(zip([x for x in years], ['_%s' % x for x in years]))\n",
    "    js_source_array = str(dictionary_of_sources).replace(\"'\", \"\")\n",
    "\n",
    "    xdr = Range1d(1, 9)\n",
    "    ydr = Range1d(20, 100)\n",
    "    plot = Plot(\n",
    "        x_range=xdr,\n",
    "        y_range=ydr,\n",
    "        title=\"\",\n",
    "        plot_width=800,\n",
    "        plot_height=400,\n",
    "        outline_line_color=None,\n",
    "        toolbar_location=None,\n",
    "        responsive=True,\n",
    "    )\n",
    "    AXIS_FORMATS = dict(\n",
    "        minor_tick_in=None,\n",
    "        minor_tick_out=None,\n",
    "        major_tick_in=None,\n",
    "        major_label_text_font_size=\"10pt\",\n",
    "        major_label_text_font_style=\"normal\",\n",
    "        axis_label_text_font_size=\"10pt\",\n",
    "\n",
    "        axis_line_color='#AAAAAA',\n",
    "        major_tick_line_color='#AAAAAA',\n",
    "        major_label_text_color='#666666',\n",
    "\n",
    "        major_tick_line_cap=\"round\",\n",
    "        axis_line_cap=\"round\",\n",
    "        axis_line_width=1,\n",
    "        major_tick_line_width=1,\n",
    "    )\n",
    "\n",
    "    xaxis = LinearAxis(SingleIntervalTicker(interval=1), axis_label=\"Children per woman (total fertility)\", **AXIS_FORMATS)\n",
    "    yaxis = LinearAxis(SingleIntervalTicker(interval=20), axis_label=\"Life expectancy at birth (years)\", **AXIS_FORMATS)\n",
    "    plot.add_layout(xaxis, 'below')\n",
    "    plot.add_layout(yaxis, 'left')\n",
    "\n",
    "    # ### Add the background year text\n",
    "    # We add this first so it is below all the other glyphs\n",
    "    text_source = ColumnDataSource({'year': ['%s' % years[0]]})\n",
    "    text = Text(x=2, y=35, text='year', text_font_size='150pt', text_color='#EEEEEE')\n",
    "    plot.add_glyph(text_source, text)\n",
    "\n",
    "    # Add the circle\n",
    "    renderer_source = sources['_%s' % years[0]]\n",
    "    circle_glyph = Circle(\n",
    "        x='fertility', y='life', size='population',\n",
    "        fill_color='region_color', fill_alpha=0.8,\n",
    "        line_color='#7c7e71', line_width=0.5, line_alpha=0.5)\n",
    "    circle_renderer = plot.add_glyph(renderer_source, circle_glyph)\n",
    "\n",
    "    # Add the hover (only against the circle and not other plot elements)\n",
    "    tooltips = \"@index\"\n",
    "    plot.add_tools(HoverTool(tooltips=tooltips, renderers=[circle_renderer]))\n",
    "\n",
    "    # Add the legend\n",
    "    text_x = 7\n",
    "    text_y = 95\n",
    "    for i, region in enumerate(regions):\n",
    "        plot.add_glyph(Text(x=text_x, y=text_y, text=[region], text_font_size='10pt', text_color='#666666'))\n",
    "        plot.add_glyph(Circle(x=text_x - 0.1, y=text_y + 2, fill_color=Spectral6[i], size=10, line_color=None, fill_alpha=0.8))\n",
    "        text_y = text_y - 5\n",
    "\n",
    "    # Add the slider\n",
    "    code = \"\"\"\n",
    "        var year = slider.get('value'),\n",
    "            sources = %s,\n",
    "            new_source_data = sources[year].get('data');\n",
    "        renderer_source.set('data', new_source_data);\n",
    "        text_source.set('data', {'year': [String(year)]});\n",
    "    \"\"\" % js_source_array\n",
    "\n",
    "    callback = CustomJS(args=sources, code=code)\n",
    "    slider = Slider(start=years[0], end=years[-1], value=1, step=1, title=\"Year\", callback=callback, name='testy')\n",
    "    callback.args[\"renderer_source\"] = renderer_source\n",
    "    callback.args[\"slider\"] = slider\n",
    "    callback.args[\"text_source\"] = text_source\n",
    "\n",
    "    # Lay it out\n",
    "    return vplot(plot, slider)"
   ]
  },
  {
   "cell_type": "code",
   "execution_count": null,
   "metadata": {
    "collapsed": true
   },
   "outputs": [],
   "source": []
  },
  {
   "cell_type": "code",
   "execution_count": null,
   "metadata": {
    "collapsed": true
   },
   "outputs": [],
   "source": []
  },
  {
   "cell_type": "code",
   "execution_count": null,
   "metadata": {
    "collapsed": true
   },
   "outputs": [],
   "source": []
  },
  {
   "cell_type": "code",
   "execution_count": null,
   "metadata": {
    "collapsed": true
   },
   "outputs": [],
   "source": []
  },
  {
   "cell_type": "code",
   "execution_count": null,
   "metadata": {
    "collapsed": true
   },
   "outputs": [],
   "source": []
  },
  {
   "cell_type": "code",
   "execution_count": null,
   "metadata": {
    "collapsed": true
   },
   "outputs": [],
   "source": []
  }
 ],
 "metadata": {
  "kernelspec": {
   "display_name": "Python 2",
   "language": "python",
   "name": "python2"
  },
  "language_info": {
   "codemirror_mode": {
    "name": "ipython",
    "version": 2
   },
   "file_extension": ".py",
   "mimetype": "text/x-python",
   "name": "python",
   "nbconvert_exporter": "python",
   "pygments_lexer": "ipython2",
   "version": "2.7.10"
  }
 },
 "nbformat": 4,
 "nbformat_minor": 0
}
