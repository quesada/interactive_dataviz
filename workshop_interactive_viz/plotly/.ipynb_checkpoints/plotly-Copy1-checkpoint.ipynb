{
 "cells": [
  {
   "cell_type": "markdown",
   "metadata": {
    "slideshow": {
     "slide_type": "slide"
    }
   },
   "source": [
    "#Plotly"
   ]
  },
  {
   "cell_type": "markdown",
   "metadata": {
    "slideshow": {
     "slide_type": "slide"
    }
   },
   "source": [
    "#What is Plotly\n"
   ]
  },
  {
   "cell_type": "markdown",
   "metadata": {
    "slideshow": {
     "slide_type": "slide"
    }
   },
   "source": [
    "#How can you use Plotly\n"
   ]
  },
  {
   "cell_type": "markdown",
   "metadata": {
    "slideshow": {
     "slide_type": "slide"
    }
   },
   "source": [
    "#Plotly for Python - Installation\n",
    "To install Plotly's Python package, use the package manager pip inside your terminal.\n",
    "\n",
    "```\n",
    "pip install plotly\n",
    "```\n",
    "or\n",
    "```\n",
    "sudo pip install plotly\n",
    "```\n",
    "Initialize by writing\n",
    "```\n",
    "import plotly\n",
    "```"
   ]
  },
  {
   "cell_type": "markdown",
   "metadata": {
    "slideshow": {
     "slide_type": "slide"
    }
   },
   "source": [
    "#The Plotly Syntax\n",
    "\n",
    "+ Plotly charts are described declaratively with objects in ***plotly.graph_objs***. These objects are basically Python dictionaries and lists.\n",
    "+ All bits of information of a plotly plot is stored in a figure object consisting of a ***Data*** graph object and a ***Layout*** graph object.\n",
    "    + ***Data*** stores style and data options associated with traces (a collection of data points meant to be plotted as a whole)\n",
    "    + ***Layout*** stores information associated with the layout of the graph (axis, title, or annotations)\n",
    "    "
   ]
  },
  {
   "cell_type": "markdown",
   "metadata": {
    "slideshow": {
     "slide_type": "subslide"
    }
   },
   "source": [
    "#The Figure, Data and Layout Object\n",
    "\n",
    "##Figure:\n",
    "+ A dictionary-like object\n",
    "+ Valid keys\n",
    "    + Data\n",
    "    + Layout\n",
    "\n",
    "##Data\n",
    "+ A list-like object of trace dictionary-like objects to be shown on one plotly figure\n",
    "+ Ordering is important\n",
    "+ Examples trace objects:\n",
    "    + Scatter\n",
    "    + Bar \n",
    "    + ...\n",
    "\n",
    "##Layout\n",
    "+ A dictionary-like object containing specifications of the layout of the plotly figure\n",
    "+ Valid keys\n",
    "    + Width\n",
    "    + Height\n",
    "    + ...\n"
   ]
  },
  {
   "cell_type": "markdown",
   "metadata": {
    "slideshow": {
     "slide_type": "subslide"
    }
   },
   "source": [
    "#An Example for Figure, Data and Layout Object\n",
    "```python\n",
    "import plotly.graph_objs as go\n",
    "\n",
    "trace_1 = go.Scatter(                # Initialize the scatter trace object                         \n",
    "        x=[1, 2, 3],                 # Set reference between trace's x coordinates and 2D cart. x axis\n",
    "        y=[3, 1, 6],                 # Set reference between trace's y coordinates and 2D cart. y axis\n",
    "        mode='markers')              # Mode of the scatter trace object (other modes: lines, text)\n",
    "trace_2 = go.Scatter(                # Initialze a second scatter trace object\n",
    "        x=[1, 2, 3],\n",
    "        y=[2, 4, 5])    \n",
    "data = [trace_1, trace_2]            # Create the data list-like object consisting of two traces\n",
    "\n",
    "layout = Layout(title='Fig 0.3: Some Experiment') # Set the figures title\n",
    "\n",
    "fig = Figure(data=data, layout=layout) # Make Figure object consisting of data and layout\n",
    "```"
   ]
  },
  {
   "cell_type": "markdown",
   "metadata": {
    "slideshow": {
     "slide_type": "subslide"
    }
   },
   "source": [
    "#Ploting the figure\n",
    "1. Offline Mode\n",
    "```python\n",
    "py.offline.init_notebook_mode() # run at the start of every notebook\n",
    "...\n",
    "py.offline.iplot(fig)\n",
    "```\n",
    "2. Online Mode\n",
    "```python\n",
    "import plotly.tools as tls\n",
    "tls.set_credentials_file(username=\"your_username\", api_key=\"your_api_key\") #Get these from signin in to Plotly\n",
    "py.iplot(fig, filename='s0_second-plot') # We are sending the plot first to plotly\n",
    "```"
   ]
  },
  {
   "cell_type": "markdown",
   "metadata": {
    "slideshow": {
     "slide_type": "slide"
    }
   },
   "source": [
    "#Exercise\n",
    "\n",
    "Take the plot from before and change the title of the x-axis to *Some independent variable* and the title of the y-axis to *Some dependent variable*. Hint: Use ***help(XAxis)*** and ***help(YAxis)*** and change the layout-object.\n",
    "```python\n",
    "import plotly.graph_objs as go\n",
    "\n",
    "trace_1 = go.Scatter(                \n",
    "        x=[1, 2, 3],\n",
    "        y=[3, 1, 6],\n",
    "        mode='markers')\n",
    "trace_2 = go.Scatter(\n",
    "        x=[1, 2, 3],\n",
    "        y=[2, 4, 5])    \n",
    "data = [trace_1, trace_2]\n",
    "\n",
    "layout = Layout(title='Fig 0.3: Some Experiment')\n",
    "\n",
    "fig = Figure(data=data, layout=layout)\n",
    "```"
   ]
  },
  {
   "cell_type": "markdown",
   "metadata": {
    "slideshow": {
     "slide_type": "slide"
    }
   },
   "source": [
    "#Time Series Chart"
   ]
  },
  {
   "cell_type": "code",
   "execution_count": null,
   "metadata": {
    "collapsed": true
   },
   "outputs": [],
   "source": [
    "# Simple Time Series Chart\n",
    "import plotly as py\n",
    "import plotly.graph_objs as go\n",
    "\n",
    "from datetime import datetime\n",
    "x = [\n",
    "    datetime(year=2013, month=10, day=04),\n",
    "    datetime(year=2013, month=11, day=05),\n",
    "    datetime(year=2013, month=12, day=06)\n",
    "]\n",
    "\n",
    "data = [\n",
    "    go.Scatter(\n",
    "        x=x,\n",
    "        y=[1, 3, 6]\n",
    "    )\n",
    "]\n",
    "# py.offline.plot(data, filename='timeseries_simple.html')\n",
    "py.offline.iplot(data)"
   ]
  }
 ],
 "metadata": {
  "celltoolbar": "Slideshow",
  "kernelspec": {
   "display_name": "Python 2",
   "language": "python",
   "name": "python2"
  },
  "language_info": {
   "codemirror_mode": {
    "name": "ipython",
    "version": 2
   },
   "file_extension": ".py",
   "mimetype": "text/x-python",
   "name": "python",
   "nbconvert_exporter": "python",
   "pygments_lexer": "ipython2",
   "version": "2.7.10"
  }
 },
 "nbformat": 4,
 "nbformat_minor": 0
}
