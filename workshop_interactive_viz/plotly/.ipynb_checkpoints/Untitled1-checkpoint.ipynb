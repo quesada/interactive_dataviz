{
 "cells": [
  {
   "cell_type": "code",
   "execution_count": null,
   "metadata": {
    "collapsed": false
   },
   "outputs": [],
   "source": [
    "import plotly.tools as tls\n",
    "tls.set_credentials_file(username=\"dsr_plotly\", api_key=\"kdaos95jui\") #Get these from signin in to Plotly\n",
    "import plotly.plotly as py      # Every function in this module will communicate with an external plotly server\n",
    "py.iplot({                      # use `py.iplot` inside the ipython notebook\n",
    "\"data\": [{\n",
    "    \"x\": [1, 2, 3],\n",
    "    \"y\": [4, 2, 5]\n",
    "}],\n",
    "\"layout\": {\n",
    "    \"title\": \"hello world\"\n",
    "}\n",
    "}, filename='hello world2',      # name of the file as saved in your plotly account\n",
    "sharing='public')            # 'public' | 'private' | 'secret': Learn more: https://plot.ly/python/privacy"
   ]
  },
  {
   "cell_type": "code",
   "execution_count": null,
   "metadata": {
    "collapsed": true
   },
   "outputs": [],
   "source": []
  }
 ],
 "metadata": {
  "kernelspec": {
   "display_name": "Python 2",
   "language": "python",
   "name": "python2"
  },
  "language_info": {
   "codemirror_mode": {
    "name": "ipython",
    "version": 2
   },
   "file_extension": ".py",
   "mimetype": "text/x-python",
   "name": "python",
   "nbconvert_exporter": "python",
   "pygments_lexer": "ipython2",
   "version": "2.7.10"
  }
 },
 "nbformat": 4,
 "nbformat_minor": 0
}
