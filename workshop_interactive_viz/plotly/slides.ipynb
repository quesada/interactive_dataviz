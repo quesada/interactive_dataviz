{
 "cells": [
  {
   "cell_type": "markdown",
   "metadata": {
    "slideshow": {
     "slide_type": "slide"
    }
   },
   "source": [
    "#**Workshop Interactive Data Visualization**\n",
    "###Berlin, 2016-03-08 for DSR 16\n",
    "\n",
    ">Sven Ballentin  \n",
    ">Business Intelligence Specialist / Data Scientist  \n",
    ">Zattoo Deutschland GmbH and Clue  "
   ]
  },
  {
   "cell_type": "markdown",
   "metadata": {
    "slideshow": {
     "slide_type": "slide"
    }
   },
   "source": [
    "#Outline\n",
    "\n",
    "1. Introduction\n",
    "2. "
   ]
  },
  {
   "cell_type": "markdown",
   "metadata": {
    "slideshow": {
     "slide_type": "slide"
    }
   },
   "source": [
    "<img src=\"files/intvis1.jpg\">"
   ]
  },
  {
   "cell_type": "markdown",
   "metadata": {
    "slideshow": {
     "slide_type": "slide"
    }
   },
   "source": [
    "#Plotly"
   ]
  },
  {
   "cell_type": "markdown",
   "metadata": {
    "slideshow": {
     "slide_type": "slide"
    }
   },
   "source": [
    "#What is Plotly\n",
    "+ Online analytics and data visualization tool\n",
    "    + GUI for importing and analyzing data into a grid and using stats tools (embedding and downloading of data possible)\n",
    "+ API libraries for Python, R, MATLAB, Node.js, Julia, Arduino and a REST API\n",
    "+ Plotly can also be used to style interactive graphs with IPython\n",
    "+ Figure Converters which convert matplotlib, ggplot2, and IGOR Pro graphs into interactive, online graphs\n",
    "+ Plotly Apps for Google Chrome\n",
    "+ Plotly.js is an open source JavaScript library for creating graphs and dashboards\n",
    "+ Plotly Enterprise an on-premises installation of Plotly\n"
   ]
  },
  {
   "cell_type": "markdown",
   "metadata": {
    "slideshow": {
     "slide_type": "slide"
    }
   },
   "source": [
    "#How can you use Plotly\n",
    "1. [Online](https://plot.ly/plot)\n",
    "2. Offline using one of the before mentioned libraries\n",
    "    + We will work with the Python library\n"
   ]
  },
  {
   "cell_type": "markdown",
   "metadata": {
    "slideshow": {
     "slide_type": "slide"
    }
   },
   "source": [
    "#Plotly for Python - Installation\n",
    "To install Plotly's Python package, use the package manager pip inside your terminal.\n",
    "\n",
    "```python\n",
    "pip install plotly\n",
    "```\n",
    "or\n",
    "```python\n",
    "sudo pip install plotly\n",
    "```\n",
    "Initialize by writing\n",
    "```python\n",
    "import plotly\n",
    "```"
   ]
  },
  {
   "cell_type": "markdown",
   "metadata": {
    "slideshow": {
     "slide_type": "slide"
    }
   },
   "source": [
    "#The Plotly Syntax\n",
    "\n",
    "+ Plotly charts are described declaratively with objects in ***plotly.graph_objs***. These objects are basically Python dictionaries and lists.\n",
    "+ All bits of information of a plotly plot is stored in a figure object consisting of a ***Data*** graph object and a ***Layout*** graph object.\n",
    "    + ***Data*** stores style and data options associated with traces (a collection of data points meant to be plotted as a whole)\n",
    "    + ***Layout*** stores information associated with the layout of the graph (axis, title, or annotations)\n",
    "    "
   ]
  },
  {
   "cell_type": "markdown",
   "metadata": {
    "slideshow": {
     "slide_type": "subslide"
    }
   },
   "source": [
    "#The Figure, Data and Layout Object\n",
    "\n",
    "##Figure:\n",
    "+ A dictionary-like object\n",
    "+ Valid keys: Data, Layout\n",
    "\n",
    "##Data\n",
    "+ A list-like object of trace dictionary-like objects to be shown on one plotly figure\n",
    "+ Ordering is important\n",
    "+ Examples trace objects: Scatter, Bar, ...\n",
    "\n",
    "##Layout\n",
    "+ A dictionary-like object containing specifications of the layout of the plotly figure\n",
    "+ Valid keys: Width, Height, ...\n"
   ]
  },
  {
   "cell_type": "markdown",
   "metadata": {
    "slideshow": {
     "slide_type": "subslide"
    }
   },
   "source": [
    "#An Example for Figure, Data and Layout Object\n",
    "\n",
    "```python\n",
    "import plotly as py\n",
    "import plotly.graph_objs as go\n",
    "\n",
    "trace_1 = go.Scatter(   # Initialize the scatter trace object                         \n",
    "        x=[1, 2, 3],    # Reference between trace's x coord and 2D cart. x axis\n",
    "        y=[3, 1, 6],    # Reference between trace's y coord and 2D cart. y axis\n",
    "        mode='markers') # Mode of the scatter trace object (lines, text)\n",
    "trace_2 = go.Scatter(   # Initialze a second scatter trace object\n",
    "        x=[1, 2, 3],\n",
    "        y=[2, 4, 5])    \n",
    "data = [trace_1, trace_2]    # Create data list-like object with two traces\n",
    "\n",
    "layout = go.Layout(title='Fig 0.3: Some Experiment') # Set the figures title\n",
    "\n",
    "fig = go.Figure(data=data, layout=layout) # Make Figure object\n",
    "```"
   ]
  },
  {
   "cell_type": "markdown",
   "metadata": {
    "slideshow": {
     "slide_type": "subslide"
    }
   },
   "source": [
    "#Ploting the figure\n",
    "1. Offline Mode - Standalone HTML\n",
    "```python\n",
    "py.offline.init_notebook_mode() \n",
    "...\n",
    "py.offline.iplot(fig) # Show graph inside jupyter notebook\n",
    "...\n",
    "py.offline.plot(fig, filename = 'filename.html')\n",
    "```"
   ]
  },
  {
   "cell_type": "code",
   "execution_count": 6,
   "metadata": {
    "collapsed": true,
    "slideshow": {
     "slide_type": "skip"
    }
   },
   "outputs": [],
   "source": [
    "import plotly.plotly as py\n",
    "import plotly.graph_objs as go\n",
    "\n",
    "trace_1 = go.Scatter(                # Initialize the scatter trace object                         \n",
    "        x=[1, 2, 3],                 # Set reference between trace's x coordinates and 2D cart. x axis\n",
    "        y=[3, 1, 6],                 # Set reference between trace's y coordinates and 2D cart. y axis\n",
    "        mode='markers')              # Mode of the scatter trace object (other modes: lines, text)\n",
    "trace_2 = go.Scatter(                # Initialze a second scatter trace object\n",
    "        x=[1, 2, 3],\n",
    "        y=[2, 4, 5])    \n",
    "data = [trace_1, trace_2]            # Create the data list-like object consisting of two traces\n",
    "\n",
    "layout = go.Layout(title='Fig 0.3: Some Experiment') # Set the figures title\n",
    "\n",
    "fig = go.Figure(data=data, layout=layout) # Make Figure object consisting of data and layout"
   ]
  },
  {
   "cell_type": "markdown",
   "metadata": {
    "slideshow": {
     "slide_type": "subslide"
    }
   },
   "source": [
    "#Ploting the figure\n",
    "2. Online Mode - Hosting on Plotly\n",
    "```python\n",
    "import plotly.tools as tls\n",
    "tls.set_credentials_file(username=\"dsr_plotly\", api_key=\"kdaos95jui\") #Get these from signin in to Plotly\n",
    "py.iplot(fig, filename='first_plot', sharing='public') # We are sending the plot first to plotly\n",
    "```"
   ]
  },
  {
   "cell_type": "code",
   "execution_count": 9,
   "metadata": {
    "collapsed": false,
    "slideshow": {
     "slide_type": "subslide"
    }
   },
   "outputs": [
    {
     "data": {
      "text/html": [
       "<iframe id=\"igraph\" scrolling=\"no\" style=\"border:none;\" seamless=\"seamless\" src=\"https://plot.ly/~dsr_plotly/6.embed\" height=\"525\" width=\"100%\"></iframe>"
      ],
      "text/plain": [
       "<plotly.tools.PlotlyDisplay object>"
      ]
     },
     "execution_count": 9,
     "metadata": {},
     "output_type": "execute_result"
    }
   ],
   "source": [
    "#Line and Scatter Plots\n",
    "import plotly.tools as tls\n",
    "tls.set_credentials_file(username=\"dsr_plotly\", api_key=\"kdaos95jui\")\n",
    "# py.plot(fig, filename='first_plot', sharing='public')\n",
    "tls.embed('https://plot.ly/~dsr_plotly/6')"
   ]
  },
  {
   "cell_type": "markdown",
   "metadata": {
    "slideshow": {
     "slide_type": "slide"
    }
   },
   "source": [
    "#Exercise\n",
    "\n",
    "Take the plot from before and change the title of the x-axis to *Some independent variable* and the title of the y-axis to *Some dependent variable*. \n",
    "Hint: Use ***help(XAxis)*** and ***help(YAxis)*** and change the layout-object.\n",
    "```python\n",
    "import plotly.graph_objs as go\n",
    "\n",
    "trace_1 = go.Scatter(                \n",
    "        x=[1, 2, 3],\n",
    "        y=[3, 1, 6],\n",
    "        mode='markers')\n",
    "trace_2 = go.Scatter(\n",
    "        x=[1, 2, 3],\n",
    "        y=[2, 4, 5])    \n",
    "data = [trace_1, trace_2]\n",
    "\n",
    "layout = Layout(title='Fig 0.3: Some Experiment')\n",
    "\n",
    "fig = Figure(data=data, layout=layout)\n",
    "\n",
    "py.offline.iplot(fig)\n",
    "```"
   ]
  },
  {
   "cell_type": "markdown",
   "metadata": {
    "collapsed": true,
    "slideshow": {
     "slide_type": "subslide"
    }
   },
   "source": [
    "#One possible solution\n",
    "\n",
    "1. Make YAxis object, add title key\n",
    "```python\n",
    "xaxis = XAxis(title='Some independent variable')\n",
    "```\n",
    "\n",
    "2. Make Y-Axis object, add title key\n",
    "```python\n",
    "yaxis = YAxis(title='Some dependent variable')\n",
    "```\n",
    "\n",
    "3. Update layout key in the Figure object\n",
    "```python\n",
    "fig['layout'].update( # graphs can be updated using the update method\n",
    "    xaxis1=xaxis,  # link XAxis object to 'xaxis1'\n",
    "    yaxis1=yaxis   \n",
    ")\n",
    "py.offline.iplot(fig)\n",
    "```"
   ]
  },
  {
   "cell_type": "markdown",
   "metadata": {
    "slideshow": {
     "slide_type": "slide"
    }
   },
   "source": []
  },
  {
   "cell_type": "markdown",
   "metadata": {
    "slideshow": {
     "slide_type": "slide"
    }
   },
   "source": []
  },
  {
   "cell_type": "markdown",
   "metadata": {
    "slideshow": {
     "slide_type": "slide"
    }
   },
   "source": []
  },
  {
   "cell_type": "markdown",
   "metadata": {
    "slideshow": {
     "slide_type": "slide"
    }
   },
   "source": []
  },
  {
   "cell_type": "markdown",
   "metadata": {
    "slideshow": {
     "slide_type": "slide"
    }
   },
   "source": []
  },
  {
   "cell_type": "markdown",
   "metadata": {
    "slideshow": {
     "slide_type": "slide"
    }
   },
   "source": []
  }
 ],
 "metadata": {
  "celltoolbar": "Slideshow",
  "kernelspec": {
   "display_name": "Python 2",
   "language": "python",
   "name": "python2"
  },
  "language_info": {
   "codemirror_mode": {
    "name": "ipython",
    "version": 2
   },
   "file_extension": ".py",
   "mimetype": "text/x-python",
   "name": "python",
   "nbconvert_exporter": "python",
   "pygments_lexer": "ipython2",
   "version": "2.7.10"
  }
 },
 "nbformat": 4,
 "nbformat_minor": 0
}
