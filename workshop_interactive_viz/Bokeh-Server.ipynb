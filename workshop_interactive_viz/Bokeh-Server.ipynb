{
 "cells": [
  {
   "cell_type": "code",
   "execution_count": null,
   "metadata": {
    "collapsed": false
   },
   "outputs": [],
   "source": [
    "from bokeh.plotting import figure, show, output_server\n",
    "\n",
    "p = figure(title=\"Server Plot\")\n",
    "p.circle([1, 2, 3], [4, 5, 6])\n",
    "\n",
    "output_server(\"hover\")\n",
    "\n",
    "show(p)"
   ]
  },
  {
   "cell_type": "code",
   "execution_count": null,
   "metadata": {
    "collapsed": false
   },
   "outputs": [],
   "source": [
    "import numpy as np\n",
    "from numpy import pi\n",
    "\n",
    "from bokeh.client import push_session\n",
    "from bokeh.driving import cosine\n",
    "from bokeh.plotting import figure, curdoc\n",
    "\n",
    "x = np.linspace(0, 4*pi, 80)\n",
    "y = np.sin(x)\n",
    "\n",
    "p = figure()\n",
    "r1 = p.line([0, 4*pi], [-1, 1], color=\"firebrick\")\n",
    "r2 = p.line(x, y, color=\"navy\", line_width=4)\n",
    "\n",
    "# open a session to keep our local document in sync with server\n",
    "session = push_session(curdoc(),session_id='test')\n",
    "\n",
    "@cosine(w=0.03)\n",
    "def update(step):\n",
    "    r2.data_source.data[\"y\"] = y * step\n",
    "    r2.glyph.line_alpha = 1 - 0.8 * abs(step)\n",
    "\n",
    "curdoc().add_periodic_callback(update, 50)\n",
    "\n",
    "session.show() # open the document in a browser\n",
    "\n",
    "session.loop_until_closed() # run forever"
   ]
  },
  {
   "cell_type": "code",
   "execution_count": 9,
   "metadata": {
    "collapsed": false
   },
   "outputs": [],
   "source": [
    "import numpy as np\n",
    "from bokeh.client import push_session\n",
    "from bokeh.models import Button\n",
    "from bokeh.palettes import RdYlBu3\n",
    "from bokeh.plotting import figure, curdoc, vplot\n",
    "from bokeh.io import reset_output\n",
    "\n",
    "reset_output()\n",
    "\n",
    "# open a session: while the connection to the server is open, changes made on the server side will be applied document/plot\n",
    "# curdoc() returns the document for the current default state\n",
    "session = push_session(curdoc(),session_id='test')\n",
    "\n",
    "# create a plot and style its properties\n",
    "p = figure(x_range=(0, 100), y_range=(0, 100), toolbar_location=None)\n",
    "p.border_fill_color = 'black'\n",
    "p.background_fill_color = 'black'\n",
    "\n",
    "# add a text renderer to out plot (no data yet)\n",
    "r = p.text(x=[], y=[], text=[], text_color=[], text_font_size=\"20pt\",\n",
    "           text_baseline=\"middle\", text_align=\"center\")\n",
    "\n",
    "i = 0\n",
    "ds = r.data_source\n",
    "\n",
    "# create a callback that will add a number in a random location\n",
    "def callback():\n",
    "    global i\n",
    "    ds.data['x'].append(np.random.random()*70 + 15)\n",
    "    ds.data['y'].append(np.random.random()*70 + 15)\n",
    "    ds.data['text_color'].append(RdYlBu3[i%3])\n",
    "    ds.data['text'].append(str(i))\n",
    "    ds.trigger('data', ds.data, ds.data)\n",
    "    i = i + 1\n",
    "\n",
    "# add a button widget and configure with the call back\n",
    "button = Button(label=\"Press Me\")\n",
    "button.on_click(callback)\n",
    "\n",
    "# put the button and plot in a layout and add to the document\n",
    "curdoc().add_root(vplot(button, p))\n",
    "session.show()\n",
    "session.loop_until_closed() # run forever"
   ]
  },
  {
   "cell_type": "code",
   "execution_count": null,
   "metadata": {
    "collapsed": true
   },
   "outputs": [],
   "source": []
  }
 ],
 "metadata": {
  "kernelspec": {
   "display_name": "Python 2",
   "language": "python",
   "name": "python2"
  },
  "language_info": {
   "codemirror_mode": {
    "name": "ipython",
    "version": 2
   },
   "file_extension": ".py",
   "mimetype": "text/x-python",
   "name": "python",
   "nbconvert_exporter": "python",
   "pygments_lexer": "ipython2",
   "version": "2.7.10"
  }
 },
 "nbformat": 4,
 "nbformat_minor": 0
}
