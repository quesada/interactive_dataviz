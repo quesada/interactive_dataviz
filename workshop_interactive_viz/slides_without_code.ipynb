{
 "cells": [
  {
   "cell_type": "markdown",
   "metadata": {
    "slideshow": {
     "slide_type": "slide"
    }
   },
   "source": [
    "#**Workshop Interactive Data Visualization Using Python**\n",
    "###Berlin, 2016-03-08 for DSR 16\n",
    "\n",
    ">Sven Ballentin  \n",
    ">Business Intelligence Specialist / Data Scientist  \n",
    ">Zattoo Deutschland GmbH and Clue  "
   ]
  },
  {
   "cell_type": "markdown",
   "metadata": {
    "slideshow": {
     "slide_type": "slide"
    }
   },
   "source": [
    "#Outline\n",
    "\n",
    "1. Introduction\n",
    "2. Interactive Graphics\n",
    "    + Plotly\n",
    "    + Bokeh\n",
    "3. Final Project with Bokeh [Plot](figures/bokeh_final_project.html)\n",
    "\n",
    "Slides as HTML (Link: http://goo.gl/ndEHia)\n",
    "Github Repo (Link: https://github.com/svenballentin/interactive_dataviz)"
   ]
  },
  {
   "cell_type": "markdown",
   "metadata": {
    "slideshow": {
     "slide_type": "slide"
    }
   },
   "source": [
    "#Introduction\n",
    "\n"
   ]
  },
  {
   "cell_type": "markdown",
   "metadata": {
    "slideshow": {
     "slide_type": "subslide"
    }
   },
   "source": [
    "<img src=\"figures/intvis1.jpg\">"
   ]
  },
  {
   "cell_type": "markdown",
   "metadata": {
    "slideshow": {
     "slide_type": "subslide"
    }
   },
   "source": [
    "#Interactive Graphics - Client Based\n",
    "\n",
    "+ Interactivity at user`s machine\n",
    "+ Depend on speed of Javascript \n",
    "+ CPU intensive\n",
    "+ Storage limitations\n",
    "\n",
    "[Plot here](figures/wind_speed_dist.html)"
   ]
  },
  {
   "cell_type": "markdown",
   "metadata": {
    "slideshow": {
     "slide_type": "subslide"
    }
   },
   "source": [
    "#Interactive Graphics - Server Based\n",
    "\n",
    "+ Computation at server\n",
    "+ Fast processing and less storage limits\n",
    "\n",
    "+ Approach:\n",
    "    + Send client-side Javascript interactions to server\n",
    "    + Server processes information\n",
    "    + Generate image on server (i.e. in Java)\n",
    "    + transfer image to client and display it \n",
    "\n",
    "+ But:\n",
    "    + Bandwidth demanding\n",
    "    + Transfer time precludes some interactivity\n",
    "\n",
    "[Plot here](http://demo.bokehplots.com/apps/weather)"
   ]
  },
  {
   "cell_type": "markdown",
   "metadata": {
    "slideshow": {
     "slide_type": "subslide"
    }
   },
   "source": [
    "<img src=\"figures/intvis2.jpg\">"
   ]
  },
  {
   "cell_type": "markdown",
   "metadata": {
    "slideshow": {
     "slide_type": "subslide"
    }
   },
   "source": [
    "<img src=\"figures/intvis3.jpg\">"
   ]
  },
  {
   "cell_type": "markdown",
   "metadata": {
    "slideshow": {
     "slide_type": "slide"
    }
   },
   "source": [
    "#Interactive Visualization Libraries\n",
    "\n",
    "1. Plotly\n",
    "2. Bokeh"
   ]
  },
  {
   "cell_type": "markdown",
   "metadata": {
    "slideshow": {
     "slide_type": "slide"
    }
   },
   "source": [
    "#[Plotly](https://plot.ly/feed/)"
   ]
  },
  {
   "cell_type": "markdown",
   "metadata": {
    "slideshow": {
     "slide_type": "subslide"
    }
   },
   "source": [
    "#What is Plotly?\n",
    "+ Online analytics and data visualization tool\n",
    "    + GUI for importing and analyzing data into a grid and using stats tools\n",
    "    + GUI for creating interactive graphs\n",
    "+ API libraries for Python, R, MATLAB, Node.js, Julia, Arduino and a REST API\n",
    "+ Plotly can also be used to style interactive graphs with IPython\n",
    "+ Figure Converters which convert matplotlib, ggplot2, and IGOR Pro graphs into interactive, online graphs\n",
    "+ Plotly.js is an open source JavaScript library for creating graphs and dashboards\n",
    "+ [Plotly products](https://plot.ly/products/cloud/)\n",
    "    + Free packages\n",
    "    + Plotly Professional (unlimited API calls and graph views, everyting in cloud)\n",
    "    + Plotly Enterprise (on-premise installation)\n"
   ]
  },
  {
   "cell_type": "markdown",
   "metadata": {
    "slideshow": {
     "slide_type": "subslide"
    }
   },
   "source": [
    "#Plotly for Python - Installation\n",
    "To install Plotly's Python package, use the package manager pip inside your terminal.\n",
    "\n",
    "```python\n",
    "pip install plotly\n",
    "```\n",
    "or\n",
    "```python\n",
    "sudo pip install plotly\n",
    "```\n",
    "Initialize by writing\n",
    "```python\n",
    "import plotly as py\n",
    "```"
   ]
  },
  {
   "cell_type": "markdown",
   "metadata": {
    "slideshow": {
     "slide_type": "subslide"
    }
   },
   "source": [
    "#How can you use Plotly\n",
    "1. [Online](https://plot.ly/plot)\n",
    "2. Offline using one of the before mentioned libraries\n",
    "    + We will work with the Python library\n"
   ]
  },
  {
   "cell_type": "markdown",
   "metadata": {
    "slideshow": {
     "slide_type": "subslide"
    }
   },
   "source": [
    "#The Plotly Syntax\n",
    "\n",
    "1. Plotly charts are described declaratively with objects in ***plotly.graph_objs***. These objects are basically Python dictionaries and lists.\n",
    "2. All bits of information of a plotly plot is stored in a figure object consisting of a ***Data*** graph object and a ***Layout*** graph object.\n",
    "    + ***Data*** stores style and data options associated with traces (a collection of data points meant to be plotted as a whole)\n",
    "    + ***Layout*** stores information associated with the layout of the graph (axis, title, or annotations)\n",
    "    "
   ]
  },
  {
   "cell_type": "markdown",
   "metadata": {
    "slideshow": {
     "slide_type": "subslide"
    }
   },
   "source": [
    "#The Figure, Data and Layout Object\n",
    "\n",
    "##Figure:\n",
    "+ A dictionary-like object\n",
    "+ Valid keys: Data, Layout\n",
    "\n",
    "##Data\n",
    "+ A list-like object of trace dictionary-like objects to be shown on one plotly figure\n",
    "+ Ordering is important\n",
    "+ Examples trace objects: Scatter, Bar, ...\n",
    "\n",
    "##Layout\n",
    "+ A dictionary-like object containing specifications of the layout of the plotly figure\n",
    "+ Valid keys: Width, Height, ...\n"
   ]
  },
  {
   "cell_type": "markdown",
   "metadata": {
    "slideshow": {
     "slide_type": "slide"
    }
   },
   "source": [
    "#Plotly - First Examples"
   ]
  },
  {
   "cell_type": "markdown",
   "metadata": {
    "slideshow": {
     "slide_type": "subslide"
    }
   },
   "source": [
    "#An Example for Figure, Data and Layout Object  \n",
    "  \n",
    "```python\n",
    "import plotly as py\n",
    "import plotly.graph_objs as go\n",
    "\n",
    "trace_1 = go.Scatter(   # Initialize the scatter trace object                         \n",
    "        x=[1, 2, 3],    # Reference between trace's x coord and 2D cart. x axis\n",
    "        y=[3, 1, 6],    # Reference between trace's y coord and 2D cart. y axis\n",
    "        mode='markers') # Mode of the scatter trace object (lines, text)\n",
    "trace_2 = go.Scatter(   # Initialze a second scatter trace object\n",
    "        x=[1, 2, 3],\n",
    "        y=[2, 4, 5])    # Default mode is line\n",
    "data = [trace_1, trace_2]    # Create data list-like object with two traces\n",
    "\n",
    "layout = go.Layout(title='Fig 0.3: Some Experiment') # Set the figures title\n",
    "\n",
    "fig = go.Figure(data=data, layout=layout) # Make Figure object\n",
    "```"
   ]
  },
  {
   "cell_type": "markdown",
   "metadata": {
    "slideshow": {
     "slide_type": "subslide"
    }
   },
   "source": [
    "#Plotting the figure\n",
    "1. Offline Mode - Standalone HTML\n",
    "```python\n",
    "py.offline.init_notebook_mode() \n",
    "...\n",
    "py.offline.iplot(fig) # Show graph inside jupyter notebook\n",
    "...\n",
    "py.offline.plot(fig, filename = 'filename.html')\n",
    "```"
   ]
  },
  {
   "cell_type": "markdown",
   "metadata": {
    "collapsed": true,
    "slideshow": {
     "slide_type": "subslide"
    }
   },
   "source": [
    "```python\n",
    "import plotly as py\n",
    "import plotly.graph_objs as go\n",
    "\n",
    "trace1 = go.Scatter(   # Initialize the scatter trace object                         \n",
    "        x=[1, 2, 3],    # Reference between trace's x coord. and x axis\n",
    "        y=[3, 1, 6],    # Reference between trace's y coord. and y axis\n",
    "        mode='markers') # Mode of the scatter trace object (lines, text)\n",
    "trace2 = go.Scatter(   # Initialze a second scatter trace object\n",
    "        x=[1, 2, 3],\n",
    "        y=[2, 4, 5])    \n",
    "data = [trace1, trace2] # Create data list-like object of 2 traces\n",
    "\n",
    "layout = go.Layout(title='Fig 0.3: Some Experiment') # Set the figures title\n",
    "\n",
    "fig = go.Figure(data=data, layout=layout) # Make Figure object\n",
    "\n",
    "py.offline.init_notebook_mode()\n",
    "\n",
    "py.offline.plot(fig,filename='figures/first_plot.html') #create HTML and open in browser, store HTML\n",
    "py.offline.iplot(fig) #open a plot inside notebook\n",
    "```\n",
    "[Plot here](figures/first_plot.html)"
   ]
  },
  {
   "cell_type": "markdown",
   "metadata": {
    "slideshow": {
     "slide_type": "subslide"
    }
   },
   "source": [
    "#Plotting the figure\n",
    "2. Online Mode - Hosting on Plotly\n",
    "```python\n",
    "import plotly.tools as tls\n",
    "tls.set_credentials_file(username=\"dsr_plotly\", api_key=\"kdaos95jui\") \n",
    "# Get these from signin in to Plotly or use the dsr_plotly-account\n",
    "# Username: dsr_plotly passw: 12345 (API calls and views limited)\n",
    "py.iplot(fig, filename='first_plot', sharing='public') \n",
    "# We are sending the plot to plotly\n",
    "```\n",
    "[Plot here](https://plot.ly/~dsr_plotly/6/fig-03-some-experiment/)"
   ]
  },
  {
   "cell_type": "code",
   "execution_count": null,
   "metadata": {
    "collapsed": false,
    "slideshow": {
     "slide_type": "subslide"
    }
   },
   "outputs": [],
   "source": [
    "#Line and Scatter Plots\n",
    "import plotly.tools as tls\n",
    "tls.set_credentials_file(username=\"dsr_plotly\", api_key=\"kdaos95jui\")\n",
    "# py.plot(fig, filename='first_plot', sharing='public')\n",
    "tls.embed('https://plot.ly/~dsr_plotly/6')"
   ]
  },
  {
   "cell_type": "markdown",
   "metadata": {
    "slideshow": {
     "slide_type": "subslide"
    }
   },
   "source": [
    "#Exercise - Plotly 1 - Axis Title\n",
    "\n",
    "Take the plot from before and change the title of the x-axis to *Some independent variable* and the title of the y-axis to *Some dependent variable*.   \n",
    "Hint: Change the layout-object by adding ```xaxis = dict(title = 'title name')```\n",
    "```python\n",
    "import plotly.graph_objs as go\n",
    "\n",
    "trace1 = go.Scatter(                \n",
    "        x=[1, 2, 3],\n",
    "        y=[3, 1, 6],\n",
    "        mode='markers')\n",
    "trace2 = go.Scatter(\n",
    "        x=[1, 2, 3],\n",
    "        y=[2, 4, 5])    \n",
    "data = [trace1, trace2]\n",
    "\n",
    "layout = go.Layout(title='Fig 0.3: Some Experiment')\n",
    "\n",
    "fig = go.Figure(data=data, layout=layout)\n",
    "\n",
    "py.offline.init_notebook_mode()\n",
    "py.offline.iplot(fig)\n",
    "```"
   ]
  },
  {
   "cell_type": "markdown",
   "metadata": {
    "collapsed": true,
    "slideshow": {
     "slide_type": "subslide"
    }
   },
   "source": [
    "#One possible solution\n",
    "```python\n",
    "import plotly.graph_objs as go\n",
    "\n",
    "trace1 = go.Scatter(                \n",
    "        x=[1, 2, 3],\n",
    "        y=[3, 1, 6],\n",
    "        mode='markers')\n",
    "trace2 = go.Scatter(\n",
    "        x=[1, 2, 3],\n",
    "        y=[2, 4, 5])    \n",
    "data = [trace1, trace2]\n",
    "\n",
    "layout = go.Layout(\n",
    "    title='Fig 0.3: Some Experiment',\n",
    "    xaxis = dict(title = 'Some independent variable'),\n",
    "    yaxis = dict(title = 'Some dependent variable')\n",
    "    )\n",
    "\n",
    "fig = go.Figure(data=data, layout=layout)\n",
    "\n",
    "py.offline.init_notebook_mode()\n",
    "py.offline.iplot(fig)\n",
    "```\n",
    "[Plot here](figures/plotly_ex_1.html)"
   ]
  },
  {
   "cell_type": "markdown",
   "metadata": {
    "slideshow": {
     "slide_type": "slide"
    }
   },
   "source": [
    "#Plotly - Further Examples - Line/Bubble/Time Series and Bar Charts"
   ]
  },
  {
   "cell_type": "markdown",
   "metadata": {
    "slideshow": {
     "slide_type": "subslide"
    }
   },
   "source": [
    "#Example - Line Charts\n",
    "```python\n",
    "# Create random data with numpy\n",
    "import numpy as np\n",
    "\n",
    "N = 500\n",
    "random_x = np.linspace(0, 1, N)\n",
    "random_y = np.random.randn(N)\n",
    "\n",
    "# Create a trace\n",
    "trace0 = go.Scatter(\n",
    "    x = random_x,\n",
    "    y = random_y\n",
    ")\n",
    "\n",
    "data = [trace0]\n",
    "layout = go.Layout()\n",
    "\n",
    "fig = go.Figure(data=data, layout=layout)\n",
    "# py.offline.plot(fig, filename='line_chart.html')\n",
    "py.offline.iplot(fig)\n",
    "```\n",
    "[Plot here](figures/line_chart.html)"
   ]
  },
  {
   "cell_type": "markdown",
   "metadata": {
    "slideshow": {
     "slide_type": "subslide"
    }
   },
   "source": [
    "#Example - A More Complex Line Charts\n",
    "```python\n",
    "# Add data\n",
    "month = ['Jan','Feb','Mar','Apr','May','Jun','Jul','Aug','Sep','Oct','Nov','Dec']\n",
    "high_2000 = [32.5,37.6,49.9,53.0,69.1,75.4,76.5,76.6,70.7,60.6,45.1,29.3]\n",
    "low_2000 = [13.8,22.3,32.5,37.2,49.9,56.1,57.7,58.3,51.2,42.8,31.6,15.9]\n",
    "high_2007 = [36.5,26.6,43.6,52.3,71.5,81.4,80.5,82.2,76.0,67.3,46.1,35.0]\n",
    "low_2007 = [23.6,14.0,27.0,36.8,47.6,57.7,58.9,61.2,53.3,48.5,31.0,23.6]\n",
    "name = ['High 2007','Low 2007','High 2000','Low 2000']\n",
    "color = ['rgb(205,12,24)','rgb(22,96,167)','rgb(205,12,24)','rgb(22,96,167)']\n",
    "# Create and style traces\n",
    "trace0 = go.Scatter(x = month,y = high_2007, name = name[0],\n",
    "    line = dict(color = (color[0]), width = 4))\n",
    "trace1 = go.Scatter(x = month,y = low_2007, name = name[1],\n",
    "    line = dict(color = (color[1]), width = 4))\n",
    "trace2 = go.Scatter(x = month,y = high_2000, name = name[2],\n",
    "    line = dict(color = (color[2]), width = 4,dash = 'dash'))\n",
    "trace3 = go.Scatter(x = month,y = low_2000, name = name[3],\n",
    "    line = dict(color = (color[3]), width = 4,dash = 'dash'))\n",
    "data = [trace0, trace1, trace2, trace3]\n",
    "# Edit the layout\n",
    "layout = go.Layout(title = 'Average High and Low Temperatures in New York',\n",
    "              xaxis = dict(title = 'Temperature (degrees F)'),\n",
    "              yaxis = dict(title = 'Month'))\n",
    "\n",
    "fig = go.Figure(data=data, layout=layout)\n",
    "# py.offline.plot(fig, filename='line_chart_temperature.html')\n",
    "py.offline.iplot(fig)\n",
    "```\n",
    "[Plot here](figures/line_chart_temperature.html)"
   ]
  },
  {
   "cell_type": "markdown",
   "metadata": {
    "slideshow": {
     "slide_type": "subslide"
    }
   },
   "source": [
    "#Example - Bubble Charts\n",
    "```python\n",
    "trace0 = go.Scatter(\n",
    "    x=[1, 2, 3, 4],\n",
    "    y=[10, 11, 12, 13],\n",
    "    mode='markers',\n",
    "    marker=dict(\n",
    "        size=[40, 60, 80, 100],\n",
    "    )\n",
    ")\n",
    "data = [trace0]\n",
    "layout = go.Layout(\n",
    "    showlegend=False,\n",
    "    height=600,\n",
    "    width=600,\n",
    ")\n",
    "fig = go.Figure(data=data, layout=layout)\n",
    "# py.offline.plot(fig, filename='bubble_chart.html')\n",
    "py.offline.iplot(fig)\n",
    "```\n",
    "[Plot here](figures/bubble_chart.html)"
   ]
  },
  {
   "cell_type": "markdown",
   "metadata": {
    "slideshow": {
     "slide_type": "subslide"
    }
   },
   "source": [
    "#Setting marker size, color, opacity and add a legend\n",
    "```python\n",
    "trace0 = go.Scatter(\n",
    "    x=[1, 2, 3, 4],\n",
    "    y=[10, 11, 12, 13],\n",
    "    mode='markers',\n",
    "    marker=dict(\n",
    "        colorscale='Viridis',\n",
    "        color=[1, 2, 3, 10],\n",
    "        opacity=[1, 0.8, 0.6, 0.4],\n",
    "        size=[40, 60, 80, 100],\n",
    "        showscale=True\n",
    "    )\n",
    ")\n",
    "\n",
    "data = [trace0]\n",
    "\n",
    "layout = go.Layout(\n",
    "    showlegend=False,\n",
    "    height=600,\n",
    "    width=600,\n",
    ")\n",
    "fig = go.Figure(data=data, layout=layout)\n",
    "# py.offline.plot(fig, filename='bubble_chart_colorlegend.html')\n",
    "py.offline.iplot(fig)\n",
    "```\n",
    "[Plot here](figures/bubble_chart_colorlegend.html)"
   ]
  },
  {
   "cell_type": "markdown",
   "metadata": {
    "slideshow": {
     "slide_type": "subslide"
    }
   },
   "source": [
    "#Hover text with bubble charts\n",
    "```python\n",
    "data=[\n",
    "    go.Scatter(\n",
    "        x=[1, 2, 3, 4],\n",
    "        y=[10, 11, 12, 13],\n",
    "        text=['size: 40', 'size: 60', 'size: 80', 'size: 100'],\n",
    "        mode='markers',\n",
    "        marker=dict(\n",
    "            colorscale='Viridis',\n",
    "            color= [120, 125, 130, 135, 140],\n",
    "            opacity=[1, 0.8, 0.6, 0.4],\n",
    "            size=[40, 60, 80, 100],\n",
    "            showscale=True\n",
    "        )\n",
    "    )\n",
    "]\n",
    "\n",
    "layout = go.Layout(\n",
    "    showlegend=False,\n",
    "    height=600,\n",
    "    width=600,\n",
    ")\n",
    "fig = go.Figure(data=data, layout=layout)\n",
    "# py.offline.plot(fig, filename='bubble_chart_hovertext.html')\n",
    "py.offline.iplot(fig)\n",
    "```\n",
    "[Plot here](figures/bubble_chart_hovertext.html)"
   ]
  },
  {
   "cell_type": "markdown",
   "metadata": {
    "slideshow": {
     "slide_type": "subslide"
    }
   },
   "source": [
    "#Example - Bar Charts\n",
    "```python\n",
    "trace1 = go.Bar(\n",
    "    x=['giraffes', 'orangutans', 'monkeys'],\n",
    "    y=[20, 14, 23],\n",
    "    name='SF Zoo'\n",
    ")\n",
    "data = [trace1]\n",
    "#py.offline.plot(data, filename='barchart.html')\n",
    "py.offline.iplot(data)\n",
    "```\n",
    "[Plot here](figures/plotly_barchart.html)"
   ]
  },
  {
   "cell_type": "markdown",
   "metadata": {
    "slideshow": {
     "slide_type": "subslide"
    }
   },
   "source": [
    "#Exercise - Plotly 2 - Grouped Barchart\n",
    "\n",
    "Take the barchart from before:\n",
    "1. Add a second ```trace2``` with the following attributes \n",
    "```python\n",
    "x=['giraffes', 'orangutans', 'monkeys'],\n",
    "y=[12, 18, 29],\n",
    "name='LA Zoo'\n",
    "```\n",
    "2. Add both traces to the list-like data object\n",
    "3. Create a grouped barchart by manipulating the layout graph-object using\n",
    "```python\n",
    "barmode='group'\n",
    "```"
   ]
  },
  {
   "cell_type": "markdown",
   "metadata": {
    "slideshow": {
     "slide_type": "subslide"
    }
   },
   "source": [
    "#One possible solution\n",
    "```python\n",
    "import plotly as py\n",
    "import plotly.graph_objs as go\n",
    "\n",
    "trace1 = go.Bar(\n",
    "    x=['giraffes', 'orangutans', 'monkeys'],\n",
    "    y=[20, 14, 23],\n",
    "    name='SF Zoo'\n",
    ")\n",
    "trace2 = go.Bar(\n",
    "    x=['giraffes', 'orangutans', 'monkeys'],\n",
    "    y=[12, 18, 29],\n",
    "    name='LA Zoo'\n",
    ")\n",
    "data = [trace1, trace2]\n",
    "layout = go.Layout(\n",
    "    barmode='group' #try out stack here\n",
    ")\n",
    "fig = go.Figure(data=data, layout=layout)\n",
    "#py.offline.plot(fig, filename='barchart_grouped.html')\n",
    "py.offline.iplot(fig)\n",
    "```\n",
    "[Plot here](figures/plotly_ex_2.html)"
   ]
  },
  {
   "cell_type": "markdown",
   "metadata": {
    "collapsed": true,
    "slideshow": {
     "slide_type": "subslide"
    }
   },
   "source": [
    "#Exercise - Plotly 3 - Barchart Add Hover Text\n",
    "\n",
    "Take the grouped barchart from before:\n",
    "1. Add a hover text containing of the animal names to both traces using\n",
    "```python\n",
    "text=['animal1', 'animal2', 'animal3'],\n",
    "```\n",
    "2. Change the paper background color and chart color to ```rgb(233,233,233)``` using\n",
    "```python\n",
    "paper_bgcolor='rgb(233,233,233)',\n",
    "plot_bgcolor='rgb(233,233,233)'\n",
    "```\n",
    "Think about which graph object should have the attribute background color!"
   ]
  },
  {
   "cell_type": "markdown",
   "metadata": {
    "slideshow": {
     "slide_type": "subslide"
    }
   },
   "source": [
    "#One possible solution\n",
    "```python\n",
    "import plotly as py\n",
    "import plotly.graph_objs as go\n",
    "\n",
    "trace1 = go.Bar(\n",
    "    x=['giraffes', 'orangutans', 'monkeys'],\n",
    "    y=[20, 14, 23],\n",
    "    name='SF Zoo',\n",
    "    text=['giraffes', 'orangutans', 'monkeys']\n",
    ")\n",
    "trace2 = go.Bar(\n",
    "    x=['giraffes', 'orangutans', 'monkeys'],\n",
    "    y=[12, 18, 29],\n",
    "    name='LA Zoo',\n",
    "    text=['giraffes', 'orangutans', 'monkeys'],\n",
    "    opacity\n",
    ")\n",
    "data = [trace1, trace2]\n",
    "layout = go.Layout(\n",
    "    barmode='group', #try out stack here\n",
    "    paper_bgcolor='rgb(233,233,233)',\n",
    "    plot_bgcolor='rgb(233,233,233)'\n",
    ")\n",
    "fig = go.Figure(data=data, layout=layout)\n",
    "#py.offline.plot(fig, filename='barchart_grouped.html')\n",
    "py.offline.iplot(fig)\n",
    "```\n",
    "[Plot here](figures/plotly_ex_3.html)"
   ]
  },
  {
   "cell_type": "markdown",
   "metadata": {
    "slideshow": {
     "slide_type": "slide"
    }
   },
   "source": [
    "#Plotly - Further Examples - Maps"
   ]
  },
  {
   "cell_type": "markdown",
   "metadata": {
    "slideshow": {
     "slide_type": "subslide"
    }
   },
   "source": [
    "#Example - Scattergeo Maps\n",
    "```python\n",
    "df=pd.read_csv('https://goo.gl/EFk58X')\n",
    "df = df.sort('number',ascending=0)\n",
    "df['text'] = df['city'] + ', Immigrants: ' + (df['number']).astype(str)\n",
    "limits = [(0,9),(10,19),(20,29),(30,49),(50,99)]\n",
    "colors = [\"rgb(0,116,217)\",\"rgb(255,65,54)\",\n",
    "    \"rgb(133,20,75)\",\"rgb(255,133,27)\",\"lightgrey\"]\n",
    "cities = []\n",
    "\n",
    "for i in range(len(limits)):\n",
    "    df_sub = df[limits[i][0]:limits[i][1]]\n",
    "    city = go.Scattergeo(\n",
    "        lon = df_sub['lon'], lat = df_sub['lat'], text = df_sub['text'],\n",
    "        marker = dict(\n",
    "            size = df_sub['number']/100,\n",
    "            color = colors[i],\n",
    "            line = dict(width=0.5, color='rgb(40,40,40)'),\n",
    "            sizemode = 'area'))\n",
    "    cities.append(city)\n",
    "layout = dict(\n",
    "        title = 'Title', showlegend = True,\n",
    "        geo = dict(\n",
    "            scope='Europe',\n",
    "            projection=dict(scale=8, rotation=dict(lat=50.776351,lon=6.083862)),\n",
    "            showcountries = True, showland = True, showrivers = True,\n",
    "            countrywidth=1))\n",
    "            \n",
    "fig = go.Figure(data=data, layout=layout)\n",
    "py.offline.iplot(fig)\n",
    "```\n",
    "[Plot here](figures/map_zugezogene.html)"
   ]
  },
  {
   "cell_type": "markdown",
   "metadata": {
    "slideshow": {
     "slide_type": "slide"
    }
   },
   "source": [
    "#Adding Custom Events - Custom Buttons"
   ]
  },
  {
   "cell_type": "markdown",
   "metadata": {
    "slideshow": {
     "slide_type": "subslide"
    }
   },
   "source": [
    "#Adding Custom Events - Custom Buttons\n",
    "\n",
    "1. Build a Plotly Plot\n",
    "2. Define HTML\n",
    "3. Write some JS for Interactions"
   ]
  },
  {
   "cell_type": "markdown",
   "metadata": {
    "slideshow": {
     "slide_type": "subslide"
    }
   },
   "source": [
    "#Build a Plotly Plot\n",
    "\n",
    "```python\n",
    "import plotly.plotly as py\n",
    "import plotly.graph_objs as go\n",
    "import pandas as pd\n",
    "import plotly.tools as tls\n",
    "\n",
    "df = pd.read_csv('https://raw.githubusercontent.com/plotly/datasets/master/volcano.csv')\n",
    "\n",
    "data = [go.Heatmap(z=df.values.tolist(), colorscale='Viridis')]\n",
    "\n",
    "tls.set_credentials_file(username=\"dsr_plotly\", api_key=\"kdaos95jui\") \n",
    "py.iplot(fig, filename='heatmap_volcano', sharing='public') \n",
    "```"
   ]
  },
  {
   "cell_type": "markdown",
   "metadata": {
    "slideshow": {
     "slide_type": "subslide"
    }
   },
   "source": [
    "#Defining HTML\n",
    "```html\n",
    "<script src=\"test_html.js\"></script>\n",
    "<div class=\"row\" style=\"padding:20px\">\n",
    "<label for=\"plotURL\">Any Plotly graph URL</label>\n",
    "<input id=\"plotURL\" style=\"padding:8px;width:400px\" value=\"https://plot.ly/~dsr_plotly/24\">\n",
    "<button onclick=\"newPlot()\" class=\"button-primary\">Go!</button>\n",
    "<br>\n",
    "<button onclick=\"changeType('contour')\">Contour</button>\n",
    "<button onclick=\"changeType('heatmap')\">Heatmap</button>\n",
    "<button onclick=\"changeType('surface')\">Surface</button>\n",
    "</div>\n",
    "\n",
    "<iframe src=\"https://plot.ly/~dsr_plotly/24.embed\" height=500 width=\"100%\" id=\"plot\" seamless frameborder=0></iframe>\n",
    "```"
   ]
  },
  {
   "cell_type": "markdown",
   "metadata": {
    "slideshow": {
     "slide_type": "subslide"
    }
   },
   "source": [
    "#Write some JS for Interactions\n",
    "```javascript\n",
    "function changeType(type){\n",
    "    var plot = document.getElementById('plot').contentWindow;\n",
    "    plot.postMessage( {\n",
    "    'task': 'restyle',\n",
    "        'update': {'type': type},\n",
    "    },\n",
    "    'https://plot.ly');\n",
    "}\n",
    "\n",
    "function newPlot(){\n",
    "    var plotURL = document.getElementById('plotURL').value + '.embed';\n",
    "    var iframe = document.getElementById('plot');\n",
    "    iframe.src = plotURL;   \n",
    "}\n",
    "```\n",
    "[Open here](figures/events/button.html)"
   ]
  },
  {
   "cell_type": "markdown",
   "metadata": {
    "slideshow": {
     "slide_type": "subslide"
    }
   },
   "source": [
    "#Other Amazing Stuff\n",
    "\n",
    "1. [Streaming Data](https://plot.ly/python/streaming-tutorial/)\n",
    "2. [Connecting Databases](https://plot.ly/python/#databases)\n",
    "3. [Building Reports](https://plot.ly/python/html-reports/)\n"
   ]
  },
  {
   "cell_type": "markdown",
   "metadata": {
    "slideshow": {
     "slide_type": "slide"
    }
   },
   "source": [
    "#Bokeh"
   ]
  },
  {
   "cell_type": "markdown",
   "metadata": {
    "slideshow": {
     "slide_type": "subslide"
    }
   },
   "source": [
    "#What is Bokeh?\n",
    "+ Python interactive visualization library\n",
    "+ Style of D3.js using *BokehJS* (“We write the JavaScript, so you don’t have to!”)\n",
    "+ High-performance interactivity over very large or streaming datasets\n",
    "+ Quickly and easily create interactive plots, dashboards, and data applications"
   ]
  },
  {
   "cell_type": "markdown",
   "metadata": {
    "slideshow": {
     "slide_type": "subslide"
    }
   },
   "source": [
    "#Bokeh - Installation\n",
    "To install Bokeh, use the package manager pip inside your terminal.\n",
    "\n",
    "```python\n",
    "pip install bokeh\n",
    "```\n",
    "or\n",
    "```python\n",
    "sudo pip install bokeh\n",
    "```\n",
    "Initialize by writing\n",
    "```python\n",
    "import bokeh\n",
    "```"
   ]
  },
  {
   "cell_type": "markdown",
   "metadata": {
    "slideshow": {
     "slide_type": "subslide"
    }
   },
   "source": [
    "#Bokeh - Glossary\n",
    "1. Glyphs  \n",
    "    + The basic visual building blocks of Bokeh plots, e.g. lines, rectangles, squares, wedges, patches, etc\n",
    "2. Widgets  \n",
    "    + User interface elements outside of a Bokeh plot such as sliders, drop down menus, buttons, etc\n",
    "3. Application  \n",
    "    + A Bokeh application is a rendered Bokeh document, running in a browser.\n",
    "4. Server  \n",
    "    + Optional component \n",
    "        + for sharing and publishing Bokeh plots and apps\n",
    "        + for handling streaming of large data sets\n",
    "        + for enabling interactions based off of widgets and selections"
   ]
  },
  {
   "cell_type": "markdown",
   "metadata": {
    "slideshow": {
     "slide_type": "subslide"
    }
   },
   "source": [
    "#How can you use Bokeh\n",
    "\n",
    "The most common output methods for interactive usage are:\n",
    "\n",
    "1. [output_file()](http://bokeh.pydata.org/en/latest/docs/reference/io.html#bokeh.io.output_file) \n",
    "For generating simple standalone HTML documents for Bokeh visualizations.\n",
    "2. [output_notebook()](http://bokeh.pydata.org/en/latest/docs/reference/io.html#bokeh.io.output_notebook)\n",
    "For displaying Bokeh visualizations inline in Jupyter notebook cells.\n",
    "3. [output_server()](http://bokeh.pydata.org/en/latest/docs/reference/io.html#bokeh.io.output_server) \n",
    "For installing Bokeh applications on a running Bokeh server.\n"
   ]
  },
  {
   "cell_type": "markdown",
   "metadata": {
    "slideshow": {
     "slide_type": "subslide"
    }
   },
   "source": [
    "#Bokeh Interfaces\n",
    "\n",
    "1. bokeh.charts\n",
    "    + high-level interface for quickly creating statistical charts\n",
    "    + interface presents functions for common, schematic statistical charts\n",
    "    + e.g. ```BoxPlot()``` and ```Histogram()```\n",
    "    \n",
    "2. bokeh.plotting\n",
    "    + mid-level general purpose bokeh.plotting interface\n",
    "    + visual glyphs + sensible default axes, grids, and tools\n",
    "\n",
    "3. bokeh.models\n",
    "    + low-level interface for complete control\n",
    "    + provides complete control over how plots and widgets are put together and configured\n",
    "    + everything has to be done by hand"
   ]
  },
  {
   "cell_type": "markdown",
   "metadata": {
    "slideshow": {
     "slide_type": "slide"
    }
   },
   "source": [
    "#Bokeh - First Examples"
   ]
  },
  {
   "cell_type": "markdown",
   "metadata": {
    "slideshow": {
     "slide_type": "subslide"
    }
   },
   "source": [
    "#Example Based on bokeh.charts\n",
    "  \n",
    "Convenient pre-defined box-plot function from bokeh.charts:  \n",
    "  \n",
    "```python\n",
    "from bokeh.charts import BoxPlot, output_file, show\n",
    "from bokeh.sampledata.autompg import autompg as df\n",
    "\n",
    "p = BoxPlot(df, values='mpg', label='cyl', color='cyl',\n",
    "            title=\"MPG Summary (grouped and shaded by CYL)\")\n",
    "\n",
    "output_file(\"figures/bokeh_boxplot1.html\")\n",
    "\n",
    "show(p)\n",
    "```\n",
    "[Plot here](figures/bokeh_boxplot1.html)"
   ]
  },
  {
   "cell_type": "markdown",
   "metadata": {
    "slideshow": {
     "slide_type": "subslide"
    }
   },
   "source": [
    "#Example Based on bokeh.plotting\n",
    "  \n",
    ".  \n",
    "  \n",
    "```python\n",
    "from bokeh.plotting import figure, output_file, show\n",
    "\n",
    "# prepare some data\n",
    "x = [1, 2, 3, 4, 5]\n",
    "y = [6, 7, 2, 4, 5]\n",
    "\n",
    "# create a new plot with a title and axis labels\n",
    "p = figure(title=\"simple line example\", x_axis_label='x', y_axis_label='y')\n",
    "\n",
    "# add a line renderer with legend and line thickness (this is a glyph)\n",
    "p.line(x, y, legend=\"Temp.\", line_width=2)\n",
    "\n",
    "# output to static HTML file \n",
    "output_file(\"figures/bokeh_lines.html\", title=\"line plot example\")\n",
    "\n",
    "# show the results and store to HTML\n",
    "show(p)\n",
    "```\n",
    "[Plot here](figures/bokeh_lines.html)"
   ]
  },
  {
   "cell_type": "markdown",
   "metadata": {
    "slideshow": {
     "slide_type": "slide"
    }
   },
   "source": [
    "#Bokeh Glyphs"
   ]
  },
  {
   "cell_type": "markdown",
   "metadata": {
    "slideshow": {
     "slide_type": "subslide"
    }
   },
   "source": [
    "#Bokeh Glyphs - Types \n",
    "\n",
    "Glyph =  Basic visual building block of Bokeh plots, e.g. lines, rectangles, squares, wedges, patches, etc\n",
    "\n",
    "+ Marker\n",
    "+ Patch\n",
    "+ Line\n",
    "+ Rectangles and Ovals\n",
    "+ Images\n",
    "+ Wedges and Arcs\n",
    "+ ..."
   ]
  },
  {
   "cell_type": "markdown",
   "metadata": {
    "slideshow": {
     "slide_type": "subslide"
    }
   },
   "source": [
    "#Bokeh Glyphs - Line Glyphs\n",
    "  \n",
    ".  \n",
    "\n",
    "```python\n",
    "from bokeh.plotting import figure, output_file, show\n",
    "\n",
    "#prepare some data\n",
    "x = [1, 2, 3, 4, 5]\n",
    "y = [6, 7, 2, 4, 5]\n",
    "\n",
    "#create a new plot with a title and axis labels\n",
    "p = figure(title=\"simple line example\", x_axis_label='x', y_axis_label='y')\n",
    "\n",
    "#add a line renderer with legend and line thickness\n",
    "p.line(x, y, legend=\"Temp.\", line_width=2)\n",
    "\n",
    "#output to static HTML file\n",
    "output_file(\"figures/bokeh_lines.html\", title=\"line plot example\")\n",
    "\n",
    "#show the results\n",
    "show(p)\n",
    "```\n",
    "[Plot here](figures/bokeh_lines.html)"
   ]
  },
  {
   "cell_type": "markdown",
   "metadata": {
    "slideshow": {
     "slide_type": "subslide"
    }
   },
   "source": [
    "#Bokeh Glyphs - Line and Circle Glyphs\n",
    "  \n",
    ".  \n",
    "  \n",
    "```python\n",
    "# create a new plot with a title and axis labels\n",
    "p = figure(title=\"simple line/circle example\", x_axis_label='x', y_axis_label='y')\n",
    "\n",
    "# add two glyphs a line and a circle glyph\n",
    "p.line(x, y, legend=\"Temp.\", line_width=2)\n",
    "p.circle(x, y, size=20, color=\"navy\", alpha=0.5)\n",
    "\n",
    "output_file(\"figures/bokeh_lines_cirles.html\", title=\"line/circle example\")\n",
    "show(p)\n",
    "```\n",
    "[Plot here](figures/bokeh_lines_circles.html)"
   ]
  },
  {
   "cell_type": "markdown",
   "metadata": {
    "slideshow": {
     "slide_type": "subslide"
    }
   },
   "source": [
    "#Bokeh Glyphs - Annular Wedges\n",
    "  \n",
    ".  \n",
    "  \n",
    "```python\n",
    "# create a new plot with a title and axis labels\n",
    "p = figure(title=\"simple line/circle/wedge example\", x_axis_label='x', y_axis_label='y')\n",
    "\n",
    "# add three glyphs a line, a circle and an angular glyph\n",
    "p.line(x, y, legend=\"Temp.\", line_width=2)\n",
    "p.circle(x, y, size=20, color=\"navy\", alpha=0.5)\n",
    "p.annular_wedge(x, y, inner_radius=0.1, outer_radius=0.25,\n",
    "              start_angle=pi, end_angle=1.5*pi, color=\"green\", alpha=0.6)\n",
    "\n",
    "output_file(\"figures/bokeh_lines_circles_wedges.html\", title=\"line/circle/wedges example\")\n",
    "show(p)\n",
    "```\n",
    "[Plot here](figures/bokeh_lines_circles_wedges3.html)"
   ]
  },
  {
   "cell_type": "markdown",
   "metadata": {
    "slideshow": {
     "slide_type": "subslide"
    }
   },
   "source": [
    "#Exercise - Bokeh 1 - Glyphs\n",
    "\n",
    "1. Load the following data into Jupyter  \n",
    "\n",
    "```python\n",
    "month = [1,2,3,4,5,6,7,8,9,10,11,12]\n",
    "high_2000 = [32.5,37.6,49.9,53.0,69,75.4,76.5,76.6,70.7,60.6,45,29.3]\n",
    "low_2000 = [13.8,22.3,32.5,37.2,49.9,56,57.7,58.3,52,42.8,31.6,15.9]\n",
    "high_2007 = [36.5,26.6,43.6,52.3,71.5,81.4,80.5,82.2,76,67.3,46.1,35]\n",
    "low_2007 = [23.6,14,27,36.8,47.6,57.7,58.9,61.2,53.3,48.5,31,23]\n",
    "name = ['High 2007','Low 2007','High 2000','Low 2000']\n",
    "color = [(205, 12, 24),(22, 96, 167),(205, 12, 24),(22, 96, 167)]\n",
    "```\n",
    "2. Visualize the data using a line glyph for each data list with the specified colors and names and map month on the x-axis. Use the following attributes for the line glyphs:\n",
    "    + `legend=name[]`\n",
    "    + `line_width=2`\n",
    "    + `color=color[]`\n",
    "    + `line_dash = [4,2]`\n",
    "3. Add a figure name (*Temperature in New York*) and axis-labels (*Month*, *Temperature in F°*) specifying the following figure attributes:\n",
    "    + `title=`\n",
    "    + `x_axis_label=`\n",
    "    + `y_axis_label=`\n"
   ]
  },
  {
   "cell_type": "markdown",
   "metadata": {
    "slideshow": {
     "slide_type": "subslide"
    }
   },
   "source": [
    "#One Possible Solution\n",
    "\n",
    "```python\n",
    "from bokeh.plotting import figure, output_notebook, show\n",
    "\n",
    "month = [1,2,3,4,5,6,7,8,9,10,11,12]\n",
    "high_2000 = [32.5,37.6,49.9,53.0,69.1,75.4,76.5,76.6,70.7,60.6,45.1,29.3]\n",
    "low_2000 = [13.8,22.3,32.5,37.2,49.9,56.1,57.7,58.3,51.2,42.8,31.6,15.9]\n",
    "high_2007 = [36.5,26.6,43.6,52.3,71.5,81.4,80.5,82.2,76.0,67.3,46.1,35.0]\n",
    "low_2007 = [23.6,14.0,27.0,36.8,47.6,57.7,58.9,61.2,53.3,48.5,31.0,23.6]\n",
    "name = ['High 2007','Low 2007','High 2000','Low 2000']\n",
    "color = [(205, 12, 24),(22, 96, 167),(205, 12, 24),(22, 96, 167)]\n",
    "\n",
    "p = figure(title=\"Temperature in New York\", x_axis_label='Month', y_axis_label='Temperature in F°')\n",
    "\n",
    "#add line glyphs\n",
    "p.line(month, high_2000, legend=name[0], line_width=2, color=color[0],line_dash=[4, 2])\n",
    "p.line(month, low_2000, legend=name[1], line_width=2, color=color[1],line_dash=[4, 2])\n",
    "p.line(month, high_2007, legend=name[2], line_width=2, color=color[2])\n",
    "p.line(month, low_2007, legend=name[3], line_width=2, color=color[3])\n",
    "\n",
    "output_file(\"figures/bokeh_ex_1.html\", title=\"Exercise 1\")\n",
    "show(p)\n",
    "```\n",
    "[Plot here](figures/bokeh_ex_1.html)"
   ]
  },
  {
   "cell_type": "markdown",
   "metadata": {
    "slideshow": {
     "slide_type": "subslide"
    }
   },
   "source": [
    "#Bokeh Glyphs - Types \n",
    "\n",
    "...for more glyph types [click here](http://bokeh.pydata.org/en/latest/docs/user_guide/plotting.html) "
   ]
  },
  {
   "cell_type": "markdown",
   "metadata": {
    "slideshow": {
     "slide_type": "slide"
    }
   },
   "source": [
    "#Bokeh - High-Level Charts"
   ]
  },
  {
   "cell_type": "markdown",
   "metadata": {
    "slideshow": {
     "slide_type": "subslide"
    }
   },
   "source": [
    "#Bar Charts\n",
    "  \n",
    "+ Barcharts can be produced using a pandas data frame object  \n",
    "         \n",
    "```python\n",
    "from bokeh.charts import Bar, output_file, show\n",
    "from bokeh.sampledata.autompg import autompg as df\n",
    "\n",
    "p = Bar(df, label='yr', values='mpg', \n",
    "        agg='mean', # default aggregation is sum\n",
    "        title=\"Average MPG by YR\")\n",
    "\n",
    "output_file(\"figures/bokeh_bar.html\")\n",
    "\n",
    "show(p)\n",
    "```\n",
    "[Plot here](figures/bokeh_bar2.html)"
   ]
  },
  {
   "cell_type": "markdown",
   "metadata": {
    "slideshow": {
     "slide_type": "subslide"
    }
   },
   "source": [
    "#Bar Charts - Aggregations / Grouping\n",
    "  \n",
    "1. Aggregations can be added to high-level chart objects. They specify how each group (here `yr`) should be aggregated\n",
    "2. Groups the data further into subgroups  \n",
    "[dataset-description](http://cs.nyu.edu/courses/fall00/G22.3033-001/weka/weka-3-0-2/data/auto-mpg.arff)  \n",
    ".  \n",
    "\n",
    "```python\n",
    "from bokeh.charts import Bar, output_file, show\n",
    "from bokeh.sampledata.autompg import autompg as df\n",
    "\n",
    "p = Bar(df, label='yr', values='mpg', \n",
    "        agg='mean', #we take the average of the year\n",
    "        group='origin', #we group the bars into subgroups based on the origin of the cars\n",
    "        title=\"Average MPG by YR\",\n",
    "        legend='top_right')\n",
    "\n",
    "output_file(\"figures/bokeh_bar_agg_group.html\")\n",
    "\n",
    "show(p)\n",
    "```\n",
    "Origins (1 = usa; 2 = europe; 3 = japan)  \n",
    "[Plot here](figures/bokeh_bar_agg_group2.html)"
   ]
  },
  {
   "cell_type": "markdown",
   "metadata": {
    "slideshow": {
     "slide_type": "subslide"
    }
   },
   "source": [
    "#Exercise - Bokeh 2 - Bar Chart\n",
    "\n",
    "1. Take the bar chart from before and plot the max value of `mpg` in each month\n",
    "2. Group by `cly` instead of `origin`\n",
    "2. Set the barwidth to `0.4` using the `bar_width` parameter directly in the Bar-object\n",
    "3. Add a legend in the top-right corner using `legend='top_right'`"
   ]
  },
  {
   "cell_type": "markdown",
   "metadata": {
    "slideshow": {
     "slide_type": "subslide"
    }
   },
   "source": [
    "#One Possible Solution\n",
    "  \n",
    ". \n",
    "  \n",
    "```python\n",
    "from bokeh.charts import Bar, output_file, show\n",
    "from bokeh.sampledata.autompg import autompg as df\n",
    "\n",
    "p = Bar(df, label='yr', values='mpg', \n",
    "        agg='max',\n",
    "        group='cyl',\n",
    "        legend='top_right',\n",
    "        title='Max MPG by YR and Cylinder',\n",
    "        bar_width=0.4)\n",
    "\n",
    "output_file(\"figures/bokeh_ex_2.html\")\n",
    "\n",
    "show(p)\n",
    "```\n",
    "[Plot here](figures/bokeh_ex_2.html)"
   ]
  },
  {
   "cell_type": "markdown",
   "metadata": {
    "slideshow": {
     "slide_type": "subslide"
    }
   },
   "source": [
    "#Histograms\n",
    "+ Quickly display the distribution of values in a set of data. \n",
    "+ Pass a literal sequence of values (e.g a python list, NumPy or Pandas DataFrame column) to the object\n",
    ".  \n",
    "\n",
    "```python\n",
    "from bokeh.charts import Histogram, output_file, show\n",
    "from bokeh.sampledata.autompg import autompg as df\n",
    "\n",
    "p = Histogram(df, \n",
    "            values='mpg',    #Pass the mpg column to the values parameter\n",
    "            bins=50,         #Adjust the number of bins to be displayed\n",
    "            color='navy',    #Adjust the color of the bars\n",
    "            title=\"MPG Distribution\")\n",
    "\n",
    "output_file(\"figures/bokeh_histogram.html\",)\n",
    "\n",
    "show(p)\n",
    "```\n",
    "[Plot here](figures/bokeh_histogram.html)"
   ]
  },
  {
   "cell_type": "markdown",
   "metadata": {
    "slideshow": {
     "slide_type": "subslide"
    }
   },
   "source": [
    "#Histograms - Colour Groups\n",
    "+ Color parameter can be used to group the data \n",
    "+ Pass values of one of the columns to the color parameter\n",
    "   + The data is first grouped by this column\n",
    "   + Histogram is generated for each group\n",
    "   + Each histogram is automatically colored differently, and a legend displayed  \n",
    "\n",
    "```python\n",
    "from bokeh.charts import Histogram, output_file, show\n",
    "from bokeh.sampledata.autompg import autompg as df\n",
    "\n",
    "p = Histogram(df, \n",
    "              values='hp', \n",
    "              color='origin', #Pass origin column of df to the color parameter\n",
    "              title=\"HP Distribution (color grouped by CYL)\",\n",
    "              legend='top_right')\n",
    "\n",
    "output_file(\"figures/bokeh_histogram_groups.html\")\n",
    "\n",
    "show(p)\n",
    "```\n",
    "[Plot here](figures/bokeh_histogram_groups.html)"
   ]
  },
  {
   "cell_type": "markdown",
   "metadata": {
    "slideshow": {
     "slide_type": "subslide"
    }
   },
   "source": [
    "#Further High-Level Charts\n",
    "1. Scatter Plots\n",
    "2. Box Plots\n",
    "3. Heat Map\n",
    "4. Time Series\n",
    "5. Donut Charts\n",
    "\n",
    "[User Guide](http://bokeh.pydata.org/en/0.11.0/docs/user_guide/charts.html)"
   ]
  },
  {
   "cell_type": "markdown",
   "metadata": {
    "slideshow": {
     "slide_type": "slide"
    }
   },
   "source": [
    "#Bokeh - Styling Charts"
   ]
  },
  {
   "cell_type": "markdown",
   "metadata": {
    "slideshow": {
     "slide_type": "subslide"
    }
   },
   "source": [
    "#Styling Charts\n",
    "1. [Visual Properties](http://bokeh.pydata.org/en/0.11.0/docs/user_guide/styling.html)\n",
    "    + Line Properties\n",
    "    + Fill Properties\n",
    "    + Text Properties\n",
    "    + Specifying Colors"
   ]
  },
  {
   "cell_type": "markdown",
   "metadata": {
    "slideshow": {
     "slide_type": "subslide"
    }
   },
   "source": [
    "#Specifying Colors\n",
    "\n",
    "1. Color values can be provided in any of the following ways:  \n",
    "    + any of the 147 named CSS colors, e.g. 'green', 'indigo' [See here](http://www.w3schools.com/colors/colors_names.asp)\n",
    "    + an RGB(A) hex value, e.g., '#FF0000', '#44444444'\n",
    "    + a 3-tuple of integers (r,g,b) between 0 and 255\n",
    "    + a 4-tuple of (r,g,b,a) where r, g, b are integers between 0 and 255 and a is a floating point value between 0 and 1\n",
    "\n"
   ]
  },
  {
   "cell_type": "markdown",
   "metadata": {
    "slideshow": {
     "slide_type": "subslide"
    }
   },
   "source": [
    "#Styling Charts - Plots\n",
    "+ Plot objects themselves have many visual characteristics that can be styled\n",
    "    + Dimensions\n",
    "    + Title\n",
    "    + Borders\n",
    "    + Outlines"
   ]
  },
  {
   "cell_type": "markdown",
   "metadata": {
    "slideshow": {
     "slide_type": "subslide"
    }
   },
   "source": [
    "#Plot Dimensions\n",
    "+ Width and height of a Plot controlled by `plot_width` and `plot_height` attributes.\n",
    "+ Values are in screen units, \n",
    "+ Control the size of the entire canvas area, including any axes or titles\n",
    "+ `responsive` attribute to make the chart responsive\n",
    "    + Plots will fill the container they are sitting in\n",
    "    + Plots will only resize down to a minimum of 100px (height or width)  \n",
    "    \n",
    ".  \n",
    "  \n",
    "```python\n",
    "from bokeh.plotting import figure, output_file, show\n",
    "\n",
    "# create a new plot with a title\n",
    "p = figure(plot_width=700) #one can assign it directly in the plot object\n",
    "p.plot_height = 300        #or manipulate the plot object afterwards\n",
    "p.responsive = True        #make the plot responsive\n",
    "\n",
    "p.circle([1, 2, 3, 4, 5], [2, 5, 8, 2, 7], size=10)\n",
    "\n",
    "output_file(\"figures/bokeh_dimensions_responsive.html\")\n",
    "\n",
    "show(p)\n",
    "```\n",
    "[Plot here](figures/bokeh_dimensions.html)  \n",
    "[Responsive plot here](figures/bokeh_dimensions_responsive.html)"
   ]
  },
  {
   "cell_type": "markdown",
   "metadata": {
    "slideshow": {
     "slide_type": "subslide"
    }
   },
   "source": [
    "#Plot Title\n",
    "\n",
    "+ Plot title styling is controlled by text properties, that are prefixed with `title_`\n",
    "+ [Overview of text properties](http://bokeh.pydata.org/en/0.10.0/docs/user_guide/styling.html#text-properties)\n",
    "  \n",
    ".  \n",
    "  \n",
    "```python\n",
    "from bokeh.plotting import figure, output_file, show\n",
    "\n",
    "output_file(\"title.html\")\n",
    "\n",
    "# create a new plot with a title\n",
    "p = figure(plot_width=400, plot_height=400, title=\"Good Looking Bold Purple Title\")\n",
    "p.title_text_color = \"purple\"     #Assign color\n",
    "p.title_text_font = \"helvetica\"   #Assign font type\n",
    "p.title_text_font_style = \"bold\"  #Assign font style\n",
    "\n",
    "p.circle([1, 2, 3, 4, 5], [2, 5, 8, 2, 7], size=10)\n",
    "\n",
    "output_file(\"figures/bokeh_titles.html\")\n",
    "\n",
    "show(p)\n",
    "```\n",
    "[Plot here](figures/bokeh_titles.html)  "
   ]
  },
  {
   "cell_type": "markdown",
   "metadata": {
    "slideshow": {
     "slide_type": "subslide"
    }
   },
   "source": [
    "#Further Plot Attributes\n",
    "\n",
    "1. [Background](http://bokeh.pydata.org/en/0.11.0/docs/user_guide/styling.html#background)\n",
    "    + Control the background color\n",
    "2. [Borders](http://bokeh.pydata.org/en/0.11.0/docs/user_guide/styling.html#border)\n",
    "    + Border color and minimum border distance\n",
    "3. [Outline](http://bokeh.pydata.org/en/0.11.0/docs/user_guide/styling.html#outline)\n",
    "    + Change outline color, alpha and thickness"
   ]
  },
  {
   "cell_type": "markdown",
   "metadata": {
    "slideshow": {
     "slide_type": "subslide"
    }
   },
   "source": [
    "#Styling Charts - Glyphs  \n",
    "\n",
    "+ To style a glyph, first obtain a specific `glyph`-object. \n",
    "+ Or just style the Glyph while creating it \n",
    "\n",
    "```python\n",
    "from bokeh.plotting import figure, output_file, show\n",
    "\n",
    "p = figure(plot_width=300, plot_height=300)\n",
    "r = p.circle([1,2,3,4,5], [2,5,8,2,7]) #obtain the GlyphRenderer\n",
    "\n",
    "glyph = r.glyph      #obtain the glyph object using the glyph function\n",
    "glyph.size = 60\n",
    "glyph.fill_alpha = 0.2\n",
    "glyph.line_color = \"firebrick\"\n",
    "glyph.line_dash = [6, 3]\n",
    "glyph.line_width = 2\n",
    "\n",
    "# This would yield the same\n",
    "# p.circle([1,2,3,4,5], [2,5,8,2,7], size=60, \n",
    "#         fill_alpha=0.2,line_color='firebrick',line_dash=[6,3],line_width=2)\n",
    "\n",
    "output_file(\"figures/bokeh_style_glyphs.html\")\n",
    "\n",
    "show(p)\n",
    "```\n",
    "[Plot here](figures/bokeh_style_glyphs.html)  "
   ]
  },
  {
   "cell_type": "markdown",
   "metadata": {
    "slideshow": {
     "slide_type": "subslide"
    }
   },
   "source": [
    "#Further Objects\n",
    "\n",
    "1. [Axis](http://bokeh.pydata.org/en/0.11.0/docs/user_guide/styling.html#axes)\n",
    "2. [Grids](http://bokeh.pydata.org/en/0.11.0/docs/user_guide/styling.html#grids)\n",
    "3. [Legends](http://bokeh.pydata.org/en/0.11.0/docs/user_guide/styling.html#legends)\n"
   ]
  },
  {
   "cell_type": "markdown",
   "metadata": {
    "slideshow": {
     "slide_type": "slide"
    }
   },
   "source": [
    "#Bokeh - Laying Out Multiple Plots"
   ]
  },
  {
   "cell_type": "markdown",
   "metadata": {
    "slideshow": {
     "slide_type": "subslide"
    }
   },
   "source": [
    "#Bokeh - Laying Out Multiple Plots\n",
    "  \n",
    "Bokeh includes several layout options for arranging plots and widgets in an HTML document\n",
    "\n",
    "1. Vertical Layout\n",
    "2. Horizontal Layout\n",
    "3. Grid Layout"
   ]
  },
  {
   "cell_type": "markdown",
   "metadata": {
    "slideshow": {
     "slide_type": "subslide"
    }
   },
   "source": [
    "#Laying Out Multiple Plots - Vertical Layout\n",
    "\n",
    "```python\n",
    "from bokeh.io import output_file, show, vplot #import vertical plotting function\n",
    "from bokeh.plotting import figure\n",
    "\n",
    "output_file(\"layout.html\")\n",
    "\n",
    "x = list(range(11))\n",
    "y0 = x\n",
    "y1 = [10 - i for i in x]\n",
    "y2 = [abs(i - 5) for i in x]\n",
    "\n",
    "# create three new plots\n",
    "s1 = figure(width=250, plot_height=250, title=None)\n",
    "s1.circle(x, y0, size=10, color=\"navy\", alpha=0.5)\n",
    "\n",
    "s2 = figure(width=250, height=250, title=None)\n",
    "s2.triangle(x, y1, size=10, color=\"firebrick\", alpha=0.5)\n",
    "\n",
    "s3 = figure(width=250, height=250, title=None)\n",
    "s3.square(x, y2, size=10, color=\"olive\", alpha=0.5)\n",
    "\n",
    "# put all the plots in a VBox\n",
    "p = vplot(s1, s2, s3)   #we could do the same horizontally with hplot()\n",
    "\n",
    "output_file(\"figures/bokeh_vertical_layout.html\")\n",
    "show(p)\n",
    "```\n",
    "[Plot here](figures/bokeh_vertical_layout.html)  "
   ]
  },
  {
   "cell_type": "markdown",
   "metadata": {
    "slideshow": {
     "slide_type": "subslide"
    }
   },
   "source": [
    "#Laying Out Multiple Plots - Grid Layout\n",
    "\n",
    "```python\n",
    "from bokeh.io import output_file, show, gridplot #import the grid plot function\n",
    "from bokeh.plotting import figure\n",
    "\n",
    "output_file(\"layout.html\")\n",
    "\n",
    "x = list(range(11))\n",
    "y0 = x\n",
    "y1 = [10 - i for i in x]\n",
    "y2 = [abs(i - 5) for i in x]\n",
    "\n",
    "# create three new plots\n",
    "s1 = figure(width=250, plot_height=250, title=None)\n",
    "s1.circle(x, y0, size=10, color=\"navy\", alpha=0.5)\n",
    "\n",
    "s2 = figure(width=250, height=250, title=None)\n",
    "s2.triangle(x, y1, size=10, color=\"firebrick\", alpha=0.5)\n",
    "\n",
    "s3 = figure(width=250, height=250, title=None)\n",
    "s3.square(x, y2, size=10, color=\"olive\", alpha=0.5)\n",
    "\n",
    "# put all the plots in a grid layout\n",
    "p = gridplot([[s1, s2], [None, s3]])\n",
    "\n",
    "output_file(\"figures/bokeh_grid_layout.html\")\n",
    "show(p)\n",
    "```\n",
    "[Plot here](figures/bokeh_grid_layout1.html)  "
   ]
  },
  {
   "cell_type": "markdown",
   "metadata": {
    "slideshow": {
     "slide_type": "slide"
    }
   },
   "source": [
    "#Bokeh - Adding Interactions"
   ]
  },
  {
   "cell_type": "markdown",
   "metadata": {
    "slideshow": {
     "slide_type": "subslide"
    }
   },
   "source": [
    "#Bokeh - Adding Interactions\n",
    "\n",
    "1. Linking Plots \n",
    "    + Panning\n",
    "    + Brushing\n",
    "2. Adding Widgets"
   ]
  },
  {
   "cell_type": "markdown",
   "metadata": {
    "slideshow": {
     "slide_type": "subslide"
    }
   },
   "source": [
    "#Adding Interactions - Linking Plots - Panning\n",
    "\n",
    "+ To enable panning across plot we need to share range objects between figure() calls\n",
    "\n",
    "```python\n",
    "from bokeh.plotting import figure, gridplot, output_file, show\n",
    "\n",
    "x = list(range(11))\n",
    "y0 = x\n",
    "y1 = [10-xx for xx in x]\n",
    "y2 = [abs(xx-5) for xx in x]\n",
    "\n",
    "# create a new plot\n",
    "s1 = figure(width=250, plot_height=250, title=None)\n",
    "s1.circle(x, y0, size=10, color=\"navy\", alpha=0.5)\n",
    "\n",
    "# create a new plot and share both ranges using y_range and x_range\n",
    "s2 = figure(width=250, height=250, x_range=s1.x_range, y_range=s1.y_range, title=None)\n",
    "s2.triangle(x, y1, size=10, color=\"firebrick\", alpha=0.5)\n",
    "\n",
    "# create a new plot and share only one range using x_range\n",
    "s3 = figure(width=250, height=250, x_range=s1.x_range, title=None)\n",
    "s3.square(x, y2, size=10, color=\"olive\", alpha=0.5)\n",
    "\n",
    "output_file(\"figures/bokeh_linked_panning.html\")\n",
    "\n",
    "p = gridplot([[s1, s2, s3]])\n",
    "\n",
    "# show the results\n",
    "show(p)\n",
    "```\n",
    "[Plot here](figures/bokeh_linked_panning.html)  "
   ]
  },
  {
   "cell_type": "markdown",
   "metadata": {
    "slideshow": {
     "slide_type": "subslide"
    }
   },
   "source": [
    "#Adding Interactions - Linking Plots - Brushing\n",
    "\n",
    "+ Link selections acted on one glyph sharing the same data sources\n",
    "+ Can be useful for highlighting selections across different representations\n",
    "\n",
    "```python\n",
    "from bokeh.models import ColumnDataSource\n",
    "from bokeh.plotting import figure, gridplot, output_file, show\n",
    "\n",
    "x = list(range(-20, 21))\n",
    "y0 = [abs(xx) for xx in x]\n",
    "y1 = [xx**2 for xx in x]\n",
    "\n",
    "# create a column data source for the plots to share\n",
    "source = ColumnDataSource(data=dict(x=x, y0=y0, y1=y1))\n",
    "\n",
    "TOOLS = \"box_select,lasso_select,help\" #define which tools to include\n",
    "\n",
    "# create a new plot and add a renderer\n",
    "left = figure(tools=TOOLS, width=300, height=300, title=None)\n",
    "left.circle('x', 'y0', source=source)\n",
    "\n",
    "# create another new plot and add a renderer\n",
    "right = figure(tools=TOOLS, width=300, height=300, title=None)\n",
    "right.circle('x', 'y1', source=source)\n",
    "\n",
    "output_file(\"figures/bokeh_linked_brushing.html\")\n",
    "\n",
    "p = gridplot([[left, right]])\n",
    "\n",
    "show(p)\n",
    "```\n",
    "[Plot here](figures/bokeh_linked_brushing.html)  "
   ]
  },
  {
   "cell_type": "markdown",
   "metadata": {
    "slideshow": {
     "slide_type": "subslide"
    }
   },
   "source": [
    "#Adding Interactions - Adding Widgets\n",
    "\n",
    "1. What are widgets?  \n",
    "    + Widgets are UI components based off JavaScript which can be used for user input.\n",
    "2. How can widgets be used?\n",
    "    + Use the CustomJS callback\n",
    "    + Use the bokeh-server and set up event handlers with .on_change\n",
    "3. [What form of widgets exist?](http://bokeh.pydata.org/en/0.11.0/docs/user_guide/interaction.html#adding-widgets)\n",
    "    + Button\n",
    "    + Checkbox\n",
    "    + DataTable\n",
    "    + Dropdown\n",
    "    + Multiselect\n",
    "    + Radio Button\n",
    "    + Slider\n",
    "    + ...\n"
   ]
  },
  {
   "cell_type": "markdown",
   "metadata": {
    "slideshow": {
     "slide_type": "subslide"
    }
   },
   "source": [
    "#Adding Interactions - Widget Example - Button/Checkbox\n",
    "```python\n",
    "from bokeh.models.widgets import Button\n",
    "from bokeh.io import output_file, show, vform\n",
    "\n",
    "output_file(\"figures/bokeh_button.html\")\n",
    "\n",
    "button = Button(label=\"Foo\", type=\"success\")\n",
    "\n",
    "show(vform(button))\n",
    "```\n",
    "[Button here](figures/bokeh_button.html)  \n",
    "```python\n",
    "from bokeh.models.widgets import CheckboxGroup\n",
    "from bokeh.io import output_file, show, vform\n",
    "\n",
    "output_file(\"figures/bokeh_checkbox_group.html\")\n",
    "\n",
    "checkbox_group = CheckboxGroup(\n",
    "        labels=[\"Option 1\", \"Option 2\", \"Option 3\"], active=[0, 1])\n",
    "\n",
    "show(vform(checkbox_group))\n",
    "```\n",
    "[Dropdown here](figures/bokeh_checkbox_group.html)  "
   ]
  },
  {
   "cell_type": "markdown",
   "metadata": {
    "slideshow": {
     "slide_type": "subslide"
    }
   },
   "source": [
    "#Adding Interactions - Defining Callbacks  \n",
    "\n",
    "Callbacks can be specified from the Python layer that results in an action on the javascript level (without the need of the Bokeh Server).\n",
    "\n",
    "1. CustomJS \n",
    "    + for Widgets\n",
    "    + for Tools\n",
    "    + for Selections\n",
    "    + for Range Update"
   ]
  },
  {
   "cell_type": "markdown",
   "metadata": {
    "slideshow": {
     "slide_type": "subslide"
    }
   },
   "source": [
    "#Adding Interactions - CustomJS for Widgets\n",
    "```python\n",
    "from bokeh.io import vform\n",
    "from bokeh.models import CustomJS, ColumnDataSource, Slider\n",
    "from bokeh.plotting import figure, output_file, show\n",
    "\n",
    "x = [x*0.005 for x in range(0, 200)]\n",
    "y = x\n",
    "\n",
    "source = ColumnDataSource(data=dict(x=x, y=y))\n",
    "\n",
    "plot = figure(plot_width=400, plot_height=400)\n",
    "plot.line('x', 'y', source=source, line_width=3, line_alpha=0.6)\n",
    "\n",
    "callback = CustomJS(args=dict(source=source), code=\"\"\"\n",
    "        var data = source.get('data');\n",
    "        var f = cb_obj.get('value')\n",
    "        x = data['x']\n",
    "        y = data['y']\n",
    "        for (i = 0; i < x.length; i++) {\n",
    "            y[i] = Math.pow(x[i], f)}\n",
    "        source.trigger('change'); \"\"\")\n",
    "\n",
    "slider = Slider(start=0.1, end=4, value=1, step=.1, title=\"power\", callback=callback)\n",
    "\n",
    "layout = vform(slider, plot)\n",
    "\n",
    "output_file(\"figures/bokeh_customjs_widgets.html\")\n",
    "show(layout)\n",
    "```\n",
    "[Dropdown here](figures/bokeh_customjs_widgets.html)  "
   ]
  },
  {
   "cell_type": "markdown",
   "metadata": {
    "slideshow": {
     "slide_type": "slide"
    }
   },
   "source": [
    "#Bokeh - Bokeh Server"
   ]
  },
  {
   "cell_type": "markdown",
   "metadata": {
    "slideshow": {
     "slide_type": "subslide"
    }
   },
   "source": [
    "#Bokeh - Bokeh Server\n",
    "\n",
    "The Bokeh server is an optional component that can be used to provide additional capabilities, such as:\n",
    "\n",
    "+ publishing Bokeh plots for wider audiences\n",
    "+ streaming data to automatically updating plots\n",
    "+ interactively visualizing very large datasets\n",
    "+ building dashboards and apps with sophisticated interactions\n"
   ]
  },
  {
   "cell_type": "markdown",
   "metadata": {
    "slideshow": {
     "slide_type": "subslide"
    }
   },
   "source": [
    "#Bokeh - Bokeh Server Architecture\n",
    "\n",
    "+ Plots are published by sending them to the server\n",
    "+ Data for the plot can be updated on the server, and the client will respond and update the plot\n",
    "+ Users can interact with the plot in the browser \n",
    "+ Results of interactions can be pulled back to the original code to start further query or analysis \n",
    "\n",
    "<img src=\"figures/bokeh_server_architecture.png\" height=\"500\" width=\"500\">\n",
    "\n"
   ]
  },
  {
   "cell_type": "markdown",
   "metadata": {
    "slideshow": {
     "slide_type": "subslide"
    }
   },
   "source": [
    "#Bokeh - Bokeh Server Architecture\n",
    "\n",
    "Running Bokeh Server:  \n",
    "\n",
    "```bash\n",
    "bokeh serve\n",
    "```\n",
    "\n"
   ]
  },
  {
   "cell_type": "markdown",
   "metadata": {
    "slideshow": {
     "slide_type": "subslide"
    }
   },
   "source": [
    "#Bokeh - Bokeh Server Example\n",
    "\n",
    "Use output_server to push the plot to the server.\n",
    "\n",
    "```python\n",
    "from bokeh.plotting import figure, show, output_server\n",
    "\n",
    "p = figure(title=\"Server Plot\")\n",
    "p.circle([1, 2, 3], [4, 5, 6])\n",
    "\n",
    "output_server(\"hover\")\n",
    "\n",
    "show(p)\n",
    "```"
   ]
  },
  {
   "cell_type": "markdown",
   "metadata": {
    "slideshow": {
     "slide_type": "subslide"
    }
   },
   "source": [
    "#Bokeh - Bokeh Server Application\n",
    "\n",
    "+ See Bokeh Server notebook  \n",
    "+ Link as HTML: http://goo.gl/k5AYZH "
   ]
  },
  {
   "cell_type": "markdown",
   "metadata": {
    "slideshow": {
     "slide_type": "subslide"
    }
   },
   "source": [
    "#Bokeh - Other Examples\n",
    "\n",
    "1. [IMDB Data Query](https://github.com/bokeh/bokeh/tree/master/examples/app/movies)\n",
    "2. [Histograms](https://github.com/bokeh/bokeh/blob/master/examples/app/selection_histogram.py)\n",
    "3. [Weather Statistics](https://github.com/bokeh/bokeh-demos/tree/master/weather)\n"
   ]
  },
  {
   "cell_type": "markdown",
   "metadata": {
    "slideshow": {
     "slide_type": "slide"
    }
   },
   "source": [
    "#Final Project\n",
    "\n",
    "+ See final project notebook\n",
    "+ Link as HTML: http://goo.gl/7KxkqG"
   ]
  },
  {
   "cell_type": "markdown",
   "metadata": {
    "slideshow": {
     "slide_type": "slide"
    }
   },
   "source": [
    "#Some Useful Links\n",
    "\n",
    "1. Plotly\n",
    "    + [Plotly References](https://plot.ly/python/reference/#area)\n",
    "2. Bokeh\n",
    "    + [User Guide](http://bokeh.pydata.org/en/0.11.0/docs/user_guide.html)\n",
    "    + [Bokeh Gallery](http://bokeh.pydata.org/en/0.11.0/docs/gallery.html)"
   ]
  }
 ],
 "metadata": {
  "celltoolbar": "Slideshow",
  "kernelspec": {
   "display_name": "Python 2",
   "language": "python",
   "name": "python2"
  },
  "language_info": {
   "codemirror_mode": {
    "name": "ipython",
    "version": 2
   },
   "file_extension": ".py",
   "mimetype": "text/x-python",
   "name": "python",
   "nbconvert_exporter": "python",
   "pygments_lexer": "ipython2",
   "version": "2.7.10"
  }
 },
 "nbformat": 4,
 "nbformat_minor": 0
}
